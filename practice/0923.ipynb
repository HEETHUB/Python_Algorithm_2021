{
 "cells": [
  {
   "cell_type": "code",
   "execution_count": 7,
   "id": "dbf95574",
   "metadata": {},
   "outputs": [
    {
     "name": "stdout",
     "output_type": "stream",
     "text": [
      "First line of text\n",
      "Second line of text\n",
      "Third line of text\n"
     ]
    }
   ],
   "source": [
    "file = open('file_example.txt', 'r')\n",
    "contents = file.read()\n",
    "file.close()\n",
    "print(contents)"
   ]
  },
  {
   "cell_type": "code",
   "execution_count": 11,
   "id": "2dff03dd",
   "metadata": {},
   "outputs": [
    {
     "data": {
      "text/plain": [
       "'First line of text\\nSecond line of text\\nThird line of text'"
      ]
     },
     "execution_count": 11,
     "metadata": {},
     "output_type": "execute_result"
    }
   ],
   "source": [
    "contents"
   ]
  },
  {
   "cell_type": "code",
   "execution_count": 13,
   "id": "e79ec629",
   "metadata": {},
   "outputs": [
    {
     "name": "stdout",
     "output_type": "stream",
     "text": [
      "First line of text\n",
      "Second line of text\n",
      "Third line of text\n"
     ]
    }
   ],
   "source": [
    "print('First line of text\\nSecond line of text\\nThird line of text')"
   ]
  },
  {
   "cell_type": "code",
   "execution_count": 41,
   "id": "f005803c",
   "metadata": {},
   "outputs": [
    {
     "name": "stdout",
     "output_type": "stream",
     "text": [
      "First line of text\n",
      "Second line of text\n",
      "Third line of text\n"
     ]
    }
   ],
   "source": [
    "with open('file_example.txt', 'r') as file:\n",
    "    contents = file.read()\n",
    "print(contents)"
   ]
  },
  {
   "cell_type": "code",
   "execution_count": 17,
   "id": "b18a56c5",
   "metadata": {},
   "outputs": [
    {
     "data": {
      "text/plain": [
       "'/Users/heetaecho/Library/Mobile Documents/com~apple~CloudDocs/SNU/Semester/21 여름/데이터사이언스 원론/Coding/21-2 Computing for DS/practice'"
      ]
     },
     "execution_count": 17,
     "metadata": {},
     "output_type": "execute_result"
    }
   ],
   "source": [
    "import os\n",
    "os.getcwd() # get current working directory\n"
   ]
  },
  {
   "cell_type": "code",
   "execution_count": 20,
   "id": "3d363700",
   "metadata": {},
   "outputs": [],
   "source": [
    "os.chdir('/Users/heetaecho/Library/Mobile Documents/com~apple~CloudDocs/SNU/Semester/21 여름/데이터사이언스 원론/Coding/21-2 Computing for DS') # change directory"
   ]
  },
  {
   "cell_type": "code",
   "execution_count": 23,
   "id": "3cf324b8",
   "metadata": {},
   "outputs": [
    {
     "data": {
      "text/plain": [
       "'/Users/heetaecho/Library/Mobile Documents/com~apple~CloudDocs/SNU/Semester/21 여름/데이터사이언스 원론/Coding/21-2 Computing for DS'"
      ]
     },
     "execution_count": 23,
     "metadata": {},
     "output_type": "execute_result"
    }
   ],
   "source": [
    "os.getcwd()"
   ]
  },
  {
   "cell_type": "code",
   "execution_count": 27,
   "id": "73d5155c",
   "metadata": {},
   "outputs": [],
   "source": [
    "os.chdir('.')"
   ]
  },
  {
   "cell_type": "code",
   "execution_count": 29,
   "id": "4c2aef39",
   "metadata": {},
   "outputs": [
    {
     "data": {
      "text/plain": [
       "'/Users/heetaecho/Library/Mobile Documents/com~apple~CloudDocs/SNU/Semester/21 여름/데이터사이언스 원론/Coding/21-2 Computing for DS/practice'"
      ]
     },
     "execution_count": 29,
     "metadata": {},
     "output_type": "execute_result"
    }
   ],
   "source": [
    "os.getcwd()"
   ]
  },
  {
   "cell_type": "code",
   "execution_count": 30,
   "id": "4d16d9a0",
   "metadata": {},
   "outputs": [],
   "source": [
    "os.chdir('../')"
   ]
  },
  {
   "cell_type": "code",
   "execution_count": 32,
   "id": "92f87bb4",
   "metadata": {},
   "outputs": [
    {
     "data": {
      "text/plain": [
       "'/Users/heetaecho/Library/Mobile Documents/com~apple~CloudDocs/SNU/Semester/21 여름/데이터사이언스 원론/Coding/21-2 Computing for DS'"
      ]
     },
     "execution_count": 32,
     "metadata": {},
     "output_type": "execute_result"
    }
   ],
   "source": [
    "os.getcwd()"
   ]
  },
  {
   "cell_type": "code",
   "execution_count": 33,
   "id": "b0a4c5f8",
   "metadata": {},
   "outputs": [],
   "source": [
    "os.chdir('../21-S Basic for Data Science')"
   ]
  },
  {
   "cell_type": "code",
   "execution_count": 35,
   "id": "99379fef",
   "metadata": {},
   "outputs": [
    {
     "data": {
      "text/plain": [
       "'/Users/heetaecho/Library/Mobile Documents/com~apple~CloudDocs/SNU/Semester/21 여름/데이터사이언스 원론/Coding/21-S Basic for Data Science'"
      ]
     },
     "execution_count": 35,
     "metadata": {},
     "output_type": "execute_result"
    }
   ],
   "source": [
    "os.getcwd()"
   ]
  },
  {
   "cell_type": "code",
   "execution_count": 37,
   "id": "bb303e4f",
   "metadata": {},
   "outputs": [],
   "source": [
    "os.chdir('/Users/heetaecho/Library/Mobile Documents/com~apple~CloudDocs/SNU/Semester/21 여름/데이터사이언스 원론/Coding/21-2 Computing for DS/practice')"
   ]
  },
  {
   "cell_type": "code",
   "execution_count": 38,
   "id": "5c841c1b",
   "metadata": {},
   "outputs": [
    {
     "data": {
      "text/plain": [
       "'/Users/heetaecho/Library/Mobile Documents/com~apple~CloudDocs/SNU/Semester/21 여름/데이터사이언스 원론/Coding/21-2 Computing for DS/practice'"
      ]
     },
     "execution_count": 38,
     "metadata": {},
     "output_type": "execute_result"
    }
   ],
   "source": [
    "os.getcwd()"
   ]
  },
  {
   "cell_type": "code",
   "execution_count": 43,
   "id": "70071b65",
   "metadata": {},
   "outputs": [
    {
     "name": "stdout",
     "output_type": "stream",
     "text": [
      "First line\n"
     ]
    }
   ],
   "source": [
    "with open('file_example.txt', 'r') as file:\n",
    "    contents10 = file.read(10)\n",
    "    \n",
    "print(contents10)"
   ]
  },
  {
   "cell_type": "code",
   "execution_count": 44,
   "id": "8055a0fb",
   "metadata": {},
   "outputs": [
    {
     "data": {
      "text/plain": [
       "['First line of text\\n', 'Second line of text\\n', 'Third line of text']"
      ]
     },
     "execution_count": 44,
     "metadata": {},
     "output_type": "execute_result"
    }
   ],
   "source": [
    "with open('file_example.txt', 'r') as file:\n",
    "    lines = file.readlines()\n",
    "lines"
   ]
  },
  {
   "cell_type": "code",
   "execution_count": 46,
   "id": "68e107e2",
   "metadata": {},
   "outputs": [
    {
     "data": {
      "text/plain": [
       "['First line of text\\n', 'Second line of text\\n', 'Third line of text']"
      ]
     },
     "execution_count": 46,
     "metadata": {},
     "output_type": "execute_result"
    }
   ],
   "source": [
    "a = sorted(lines)\n",
    "a"
   ]
  },
  {
   "cell_type": "code",
   "execution_count": 49,
   "id": "276d673e",
   "metadata": {},
   "outputs": [
    {
     "name": "stdout",
     "output_type": "stream",
     "text": [
      "First line of text\n",
      "Second line of text\n",
      "Third line of text\n"
     ]
    }
   ],
   "source": [
    "with open('file_example.txt', 'r') as file:\n",
    "    line1 = file.readline().strip()\n",
    "    line2 = file.readline().strip()\n",
    "    line3 = file.readline().strip()\n",
    "print(line1)\n",
    "print(line2)\n",
    "print(line3)"
   ]
  },
  {
   "cell_type": "code",
   "execution_count": 53,
   "id": "98d36c03",
   "metadata": {},
   "outputs": [
    {
     "name": "stdout",
     "output_type": "stream",
     "text": [
      "Coloured fox fur production, HOPEDALE, Labrador,, 1834-1925\n",
      "#Source: C. Elton (1942) \"Voles, Mice and Lemmings\", Oxford Univ. Press\n",
      "#Table 17, p.265--266\n",
      "22\n",
      "29\n",
      "2\n",
      "16\n",
      "12\n",
      "35\n",
      "8\n",
      "83\n",
      "166\n",
      "62\n",
      "77\n",
      "42\n",
      "54\n",
      "56\n",
      "5\n",
      "9\n",
      "78\n",
      "151\n",
      "27\n",
      "14\n",
      "71\n",
      "261\n",
      "22\n",
      "3\n",
      "16\n",
      "70\n",
      "7\n",
      "2\n",
      "26\n",
      "27\n",
      "35\n",
      "9\n",
      "11\n",
      "73\n",
      "39\n",
      "22\n",
      "41\n",
      "31\n",
      "60\n",
      "7\n",
      "28\n",
      "43\n",
      "17\n",
      "26\n",
      "35\n",
      "60\n",
      "75\n",
      "18\n",
      "58\n",
      "38\n",
      "28\n",
      "26\n",
      "29\n",
      "43\n",
      "16\n",
      "40\n",
      "25\n",
      "28\n",
      "12\n",
      "22\n",
      "13\n",
      "52\n",
      "90\n",
      "103\n",
      "15\n",
      "26\n",
      "29\n",
      "102\n",
      "31\n",
      "9\n",
      "33\n",
      "90\n",
      "95\n",
      "17\n",
      "35\n",
      "59\n",
      "115\n",
      "12\n",
      "26\n",
      "38\n",
      "202\n",
      "25\n",
      "83\n",
      "92\n",
      "58\n",
      "0\n",
      "19\n",
      "63\n",
      "108\n",
      "25\n",
      "38\n",
      "231\n"
     ]
    }
   ],
   "source": [
    "import urllib.request\n",
    "url = 'https://robjhyndman.com/tsdldata/ecology1/hopedale.dat'\n",
    "with urllib.request.urlopen(url) as file:\n",
    "    for line in file:\n",
    "        line = line.strip()\n",
    "        line = line.decode('utf-8') \n",
    "        # 임의의 파일을 읽을 때는 byte 타입으로 가져옴, not string, 그렇게 가져온걸 string으로 바꿔주는 decode 과정\n",
    "        print(line)"
   ]
  },
  {
   "cell_type": "code",
   "execution_count": 56,
   "id": "fe9072cd",
   "metadata": {},
   "outputs": [
    {
     "name": "stdout",
     "output_type": "stream",
     "text": [
      "['Inhoe', 'Jaewook']\n",
      "['2020-1111', '2020-2222']\n",
      "['A+', 'A+']\n"
     ]
    }
   ],
   "source": [
    "def skip_header(input_file) -> str:\n",
    "    line = input_file.readline()\n",
    "    while line.startswith('#'):\n",
    "        line = input_file.readline()\n",
    "    return line\n",
    "\n",
    "def process_file(input_file) -> None:\n",
    "    line = skip_header(input_file)\n",
    "    names = []\n",
    "    numbers = []\n",
    "    grades = []\n",
    "    # Do something meaningful\n",
    "    while line:\n",
    "        line = line.strip()\n",
    "        if line != '-':\n",
    "            # Do something meaningful\n",
    "            value = line.split()\n",
    "            names.append(value[0])\n",
    "            numbers.append(value[1])\n",
    "            grades.append(value[2])\n",
    "        line = input_file.readline()\n",
    "    print(names)\n",
    "    print(numbers)\n",
    "    print(grades)\n",
    "    \n",
    "with open('file_example.txt','r') as students:\n",
    "        process_file(students)\n",
    "        "
   ]
  },
  {
   "cell_type": "code",
   "execution_count": 57,
   "id": "264eafec",
   "metadata": {},
   "outputs": [],
   "source": [
    "with open('file_example2.txt', 'w') as output_file:\n",
    "    output_file.write('Computing Foundations for Data Science')"
   ]
  },
  {
   "cell_type": "code",
   "execution_count": 60,
   "id": "2af69f36",
   "metadata": {},
   "outputs": [],
   "source": [
    "with open('file_example2.txt', 'w') as output_file:\n",
    "    output_file.write(' is fun\\n...?')"
   ]
  },
  {
   "cell_type": "code",
   "execution_count": null,
   "id": "cb4247f5",
   "metadata": {},
   "outputs": [],
   "source": []
  }
 ],
 "metadata": {
  "kernelspec": {
   "display_name": "Python 3",
   "language": "python",
   "name": "python3"
  },
  "language_info": {
   "codemirror_mode": {
    "name": "ipython",
    "version": 3
   },
   "file_extension": ".py",
   "mimetype": "text/x-python",
   "name": "python",
   "nbconvert_exporter": "python",
   "pygments_lexer": "ipython3",
   "version": "3.8.8"
  }
 },
 "nbformat": 4,
 "nbformat_minor": 5
}

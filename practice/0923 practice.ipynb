{
 "cells": [
  {
   "cell_type": "markdown",
   "id": "bd682e0c",
   "metadata": {},
   "source": [
    "## My code"
   ]
  },
  {
   "cell_type": "code",
   "execution_count": 34,
   "id": "72ae38aa",
   "metadata": {},
   "outputs": [
    {
     "name": "stdout",
     "output_type": "stream",
     "text": [
      "6721\n"
     ]
    }
   ],
   "source": [
    "def skip_header(input_text) -> None:\n",
    "    line = input_text.readline()\n",
    "    while line.startswith('#'):\n",
    "        line = input_text.readline()\n",
    "    return line\n",
    "\n",
    "def process_file(input_text) -> None:\n",
    "    skip_header(input_text)\n",
    "\n",
    "with open('file_practice.txt','r') as file:\n",
    "    process_file(file)\n",
    "    numbers = []\n",
    "    for line in file:\n",
    "        for number in line.split():\n",
    "            if '#' in number:\n",
    "                break\n",
    "            number = number.replace('.','')\n",
    "            numbers.append(int(number))        \n",
    "    print(max(numbers))"
   ]
  },
  {
   "cell_type": "markdown",
   "id": "0dd1c8a6",
   "metadata": {},
   "source": [
    "## Solution"
   ]
  },
  {
   "cell_type": "code",
   "execution_count": 36,
   "id": "46ed6380",
   "metadata": {},
   "outputs": [
    {
     "name": "stdout",
     "output_type": "stream",
     "text": [
      "6721\n"
     ]
    }
   ],
   "source": [
    "from typing import TextIO\n",
    "\n",
    "def process_file(input_file: TextIO) -> int:\n",
    "    # initialization\n",
    "    ans = 0\n",
    "    \n",
    "    # Process each line\n",
    "    for line in input_file:\n",
    "        # 1) Skip header\n",
    "        if line.startswith('#'):\n",
    "            continue\n",
    "            \n",
    "        # 2) Break a line string into valid number strings\n",
    "        # 2-1) Take the string before '#' and remove whitespace\n",
    "        #      Now the string has only valid numbers\n",
    "        valid_line_str = line.split('#')[0].strip()\n",
    "        \n",
    "        # 2-2) Break the valid string into number strings (the last element will be empty '')\n",
    "        valid_nums_str = valid_line_str.split('.')\n",
    "        \n",
    "        # 3) Process each number string and get the answer\n",
    "        for num_str in valid_nums_str:\n",
    "            # 3-1) Check if num_str is not empty\n",
    "            if num_str:\n",
    "                # 3-2) Remove whitespace and change the type to int\n",
    "                num = int(num_str.strip())\n",
    "                # 3-3) Update answer\n",
    "                if num > ans:\n",
    "                    ans = num\n",
    "    return ans\n",
    "    \n",
    "with open('file_practice.txt', 'r') as input_file:\n",
    "    ans = process_file(input_file)\n",
    "    print(ans)"
   ]
  }
 ],
 "metadata": {
  "kernelspec": {
   "display_name": "Python 3",
   "language": "python",
   "name": "python3"
  },
  "language_info": {
   "codemirror_mode": {
    "name": "ipython",
    "version": 3
   },
   "file_extension": ".py",
   "mimetype": "text/x-python",
   "name": "python",
   "nbconvert_exporter": "python",
   "pygments_lexer": "ipython3",
   "version": "3.8.8"
  }
 },
 "nbformat": 4,
 "nbformat_minor": 5
}

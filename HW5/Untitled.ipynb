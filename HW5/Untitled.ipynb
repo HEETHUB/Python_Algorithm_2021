{
 "cells": [
  {
   "cell_type": "code",
   "execution_count": 3,
   "id": "4b32881f",
   "metadata": {},
   "outputs": [
    {
     "data": {
      "text/plain": [
       "[['beryllium', '4', '9.012'],\n",
       " ['magnesium', '12', '24.305'],\n",
       " ['calcium', '20', '20.078'],\n",
       " ['strontium', '38', '87.62'],\n",
       " ['barium', '56', '137.327'],\n",
       " ['radium', '88', '226']]"
      ]
     },
     "execution_count": 3,
     "metadata": {},
     "output_type": "execute_result"
    }
   ],
   "source": [
    "from typing import TextIO\n",
    "\n",
    "def P1(input_file: TextIO) -> list:\n",
    "    with open(input_file) as text:\n",
    "        result = []\n",
    "        for line in text:\n",
    "            result.append(line.split())\n",
    "    return result\n",
    "\n",
    "P1('alkaline_metals.txt')\n",
    "        "
   ]
  },
  {
   "cell_type": "code",
   "execution_count": 14,
   "id": "91c18dd8",
   "metadata": {},
   "outputs": [],
   "source": [
    "def P2(input_filename: str, output_filename: str) -> None:        \n",
    "    ##### Write your Code Here #####\n",
    "    with open(input_filename, 'r') as input_file, open(output_filename, 'w') as output_file:\n",
    "        for line in input_file:\n",
    "            name, number, weight = line.split()\n",
    "            output_file.write(f'{name}\\'s atomic number is {number} and atomic weight is {weight}\\n')\n",
    "\n",
    "    ##### End of your code #####\n",
    "P2('alkaline_metals.txt', 'output.txt')"
   ]
  },
  {
   "cell_type": "code",
   "execution_count": 10,
   "id": "dbbe3a76",
   "metadata": {},
   "outputs": [
    {
     "name": "stdout",
     "output_type": "stream",
     "text": [
      "나는 조희태입니다\n"
     ]
    }
   ],
   "source": [
    "a = '나 조희태 니다'\n",
    "b, c, d = a.split()\n",
    "print(f'{b}는 {c}입{d}')"
   ]
  },
  {
   "cell_type": "code",
   "execution_count": 7,
   "id": "167b454d",
   "metadata": {},
   "outputs": [],
   "source": [
    "def P4(filename: str) -> list:        \n",
    "    ##### Write your Code Here #####\n",
    "    with open(filename, 'r') as file:\n",
    "        result = []\n",
    "        line = file.readline()\n",
    "        while line:\n",
    "            if line.startswith('#') or line.startswith('//'):\n",
    "                line = file.readline()\n",
    "                continue\n",
    "            result.append(line)\n",
    "            line = file.readline()\n",
    "        return result\n",
    "    ##### End of your code #####"
   ]
  },
  {
   "cell_type": "code",
   "execution_count": 8,
   "id": "780d0c9f",
   "metadata": {},
   "outputs": [],
   "source": [
    "with open('a.txt', 'w') as a:\n",
    "    a.write('## alkaline\\n// alkaline\\nalkaline\\n// alkaline\\nalkaline')\n",
    "    "
   ]
  },
  {
   "cell_type": "code",
   "execution_count": 10,
   "id": "10dc6876",
   "metadata": {},
   "outputs": [
    {
     "data": {
      "text/plain": [
       "['alkaline\\n', 'alkaline']"
      ]
     },
     "execution_count": 10,
     "metadata": {},
     "output_type": "execute_result"
    }
   ],
   "source": [
    "P4('a.txt')"
   ]
  },
  {
   "cell_type": "code",
   "execution_count": 11,
   "id": "280f01d3",
   "metadata": {},
   "outputs": [],
   "source": [
    "def P5(filename: str) -> int:        \n",
    "    ##### Write your Code Here #####\n",
    "    with open(filename, 'r') as file:\n",
    "        ans = None\n",
    "        for line in file:\n",
    "            textline = line.split()\n",
    "            for text in textline:\n",
    "                if ans == None:\n",
    "                    ans = len(text)\n",
    "                else:\n",
    "                    if len(text) >= ans:\n",
    "                        ans = len(text)\n",
    "        return ans\n",
    "    ##### End of your code #####"
   ]
  },
  {
   "cell_type": "code",
   "execution_count": 13,
   "id": "39dd27e0",
   "metadata": {},
   "outputs": [],
   "source": [
    "with open('b.txt', 'w') as b:\n",
    "    b.write('가 가나 가나다 가나다라마바사 가나다라 가나다라마 가나다라마 가나')\n",
    "    "
   ]
  },
  {
   "cell_type": "code",
   "execution_count": 14,
   "id": "195e7087",
   "metadata": {},
   "outputs": [
    {
     "data": {
      "text/plain": [
       "7"
      ]
     },
     "execution_count": 14,
     "metadata": {},
     "output_type": "execute_result"
    }
   ],
   "source": [
    "P5('b.txt')"
   ]
  }
 ],
 "metadata": {
  "kernelspec": {
   "display_name": "Python 3",
   "language": "python",
   "name": "python3"
  },
  "language_info": {
   "codemirror_mode": {
    "name": "ipython",
    "version": 3
   },
   "file_extension": ".py",
   "mimetype": "text/x-python",
   "name": "python",
   "nbconvert_exporter": "python",
   "pygments_lexer": "ipython3",
   "version": "3.8.8"
  }
 },
 "nbformat": 4,
 "nbformat_minor": 5
}

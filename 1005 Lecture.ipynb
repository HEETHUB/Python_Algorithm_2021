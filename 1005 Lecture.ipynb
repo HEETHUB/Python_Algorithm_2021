{
 "cells": [
  {
   "cell_type": "markdown",
   "id": "e8ab73e4",
   "metadata": {},
   "source": [
    "## Recursion"
   ]
  },
  {
   "cell_type": "code",
   "execution_count": 2,
   "id": "233adb1a",
   "metadata": {},
   "outputs": [],
   "source": [
    "def facto(n: int) -> int:\n",
    "    ans = 1\n",
    "    for i in range(1, n+1):\n",
    "        ans = ans * i\n",
    "    return ans"
   ]
  },
  {
   "cell_type": "code",
   "execution_count": 3,
   "id": "c847c8b1",
   "metadata": {},
   "outputs": [],
   "source": [
    "def reFacto(n: int) -> int:\n",
    "    if n == 0:\n",
    "        return 1\n",
    "    else :\n",
    "        return n * reFacto(n-1)"
   ]
  },
  {
   "cell_type": "code",
   "execution_count": 4,
   "id": "f41f931b",
   "metadata": {},
   "outputs": [
    {
     "data": {
      "text/plain": [
       "3628800"
      ]
     },
     "execution_count": 4,
     "metadata": {},
     "output_type": "execute_result"
    }
   ],
   "source": [
    "facto(10)"
   ]
  },
  {
   "cell_type": "code",
   "execution_count": 5,
   "id": "55306bed",
   "metadata": {},
   "outputs": [
    {
     "data": {
      "text/plain": [
       "3628800"
      ]
     },
     "execution_count": 5,
     "metadata": {},
     "output_type": "execute_result"
    }
   ],
   "source": [
    "reFacto(10)"
   ]
  },
  {
   "cell_type": "code",
   "execution_count": 13,
   "id": "b258c8b9",
   "metadata": {},
   "outputs": [],
   "source": [
    "def febonacci(n: int) -> int:\n",
    "    if n == 1 or n == 2:\n",
    "        return n\n",
    "    else:\n",
    "        return febonacci(n-1) + febonacci(n-2)"
   ]
  },
  {
   "cell_type": "code",
   "execution_count": 14,
   "id": "7df8fbcd",
   "metadata": {},
   "outputs": [
    {
     "name": "stdout",
     "output_type": "stream",
     "text": [
      "1\n",
      "2\n",
      "3\n",
      "5\n",
      "8\n",
      "13\n",
      "21\n",
      "34\n",
      "55\n",
      "89\n"
     ]
    }
   ],
   "source": [
    "for i in range(1,11):\n",
    "    print(febonacci(i))"
   ]
  },
  {
   "cell_type": "code",
   "execution_count": 28,
   "id": "f8e15da2",
   "metadata": {},
   "outputs": [],
   "source": [
    "def merge(L: list, first: int, mid: int, last: int) -> None:\n",
    "    k = first\n",
    "    sub1 = L[first:mid+1]\n",
    "    sub2 = L[mid+1:last+1]\n",
    "    i = j = 0\n",
    "    while i < len(sub1) and j < len(sub2):\n",
    "        if sub1[i] <= sub2[j]:\n",
    "            L[k] = sub1[i]\n",
    "            i += 1\n",
    "        else:\n",
    "            L[k] = sub2[j]\n",
    "            j += 1\n",
    "        k = k + 1\n",
    "    if i < len(sub1):\n",
    "        L[k:last+1] = sub1[i:]\n",
    "    elif j < len(sub2):\n",
    "        L[k:last+1] = sub2[j:]\n",
    "\n",
    "def mergeSortHelp(L: list, first: int, last: int) -> None:\n",
    "    if first == last: # Conditional statements\n",
    "        return # Base Case\n",
    "    else:\n",
    "        mid = first + (last-first)//2 # 최대한 작은 수를 가지고 코딩하라\n",
    "        mergeSortHelp(L, first, mid) # Recursive call for sublist1\n",
    "        mergeSortHelp(L, mid+1, last) # Recursive call for sublist2\n",
    "        merge(L, first, mid, last) # Merge the two (sorted) sublists\n",
    "    \n",
    "def mergeSort(L: list) -> None:\n",
    "    mergeSortHelp(L, 0, len(L) - 1)\n",
    "    "
   ]
  },
  {
   "cell_type": "code",
   "execution_count": 29,
   "id": "957d85a9",
   "metadata": {},
   "outputs": [],
   "source": [
    "import time"
   ]
  },
  {
   "cell_type": "code",
   "execution_count": 30,
   "id": "1522619a",
   "metadata": {},
   "outputs": [],
   "source": [
    "a = [0,2,-2,4,-3,-6,5,1,10]"
   ]
  },
  {
   "cell_type": "code",
   "execution_count": 31,
   "id": "c0f0362d",
   "metadata": {},
   "outputs": [
    {
     "name": "stdout",
     "output_type": "stream",
     "text": [
      "9.298324584960938e-05\n"
     ]
    }
   ],
   "source": [
    "start = time.time()\n",
    "mergeSort(a)\n",
    "end = time.time()\n",
    "print(end - start)"
   ]
  },
  {
   "cell_type": "code",
   "execution_count": 32,
   "id": "ffa357ea",
   "metadata": {},
   "outputs": [
    {
     "data": {
      "text/plain": [
       "[-6, -3, -2, 0, 1, 2, 4, 5, 10]"
      ]
     },
     "execution_count": 32,
     "metadata": {},
     "output_type": "execute_result"
    }
   ],
   "source": [
    "a"
   ]
  },
  {
   "cell_type": "code",
   "execution_count": 33,
   "id": "621294ca",
   "metadata": {},
   "outputs": [],
   "source": [
    "a = [0,2,-2,4,-3,-6,5,1,10]"
   ]
  },
  {
   "cell_type": "code",
   "execution_count": 34,
   "id": "6f795fef",
   "metadata": {},
   "outputs": [
    {
     "name": "stdout",
     "output_type": "stream",
     "text": [
      "8.296966552734375e-05\n"
     ]
    }
   ],
   "source": [
    "start = time.time()\n",
    "list.sort(a)\n",
    "end = time.time()\n",
    "print(end - start)"
   ]
  },
  {
   "cell_type": "code",
   "execution_count": 24,
   "id": "9a28fb80",
   "metadata": {},
   "outputs": [
    {
     "data": {
      "text/plain": [
       "[-6, -3, -2, 0, 1, 2, 4, 5, 10]"
      ]
     },
     "execution_count": 24,
     "metadata": {},
     "output_type": "execute_result"
    }
   ],
   "source": [
    "a"
   ]
  },
  {
   "cell_type": "code",
   "execution_count": null,
   "id": "a3890aee",
   "metadata": {},
   "outputs": [],
   "source": []
  }
 ],
 "metadata": {
  "kernelspec": {
   "display_name": "Python 3",
   "language": "python",
   "name": "python3"
  },
  "language_info": {
   "codemirror_mode": {
    "name": "ipython",
    "version": 3
   },
   "file_extension": ".py",
   "mimetype": "text/x-python",
   "name": "python",
   "nbconvert_exporter": "python",
   "pygments_lexer": "ipython3",
   "version": "3.8.8"
  }
 },
 "nbformat": 4,
 "nbformat_minor": 5
}

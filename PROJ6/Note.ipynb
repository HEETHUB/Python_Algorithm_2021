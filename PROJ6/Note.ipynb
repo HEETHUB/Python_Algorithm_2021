{
 "cells": [
  {
   "cell_type": "code",
   "execution_count": 1,
   "id": "08b0f926",
   "metadata": {},
   "outputs": [],
   "source": [
    "def P1(m: int, n: int) -> int:\n",
    "    # write your code below\n",
    "    ans = m & n\n",
    "    \n",
    "    return ans"
   ]
  },
  {
   "cell_type": "code",
   "execution_count": 3,
   "id": "f838b1eb",
   "metadata": {},
   "outputs": [
    {
     "data": {
      "text/plain": [
       "0"
      ]
     },
     "execution_count": 3,
     "metadata": {},
     "output_type": "execute_result"
    }
   ],
   "source": [
    "P1(4,10)"
   ]
  },
  {
   "cell_type": "code",
   "execution_count": 5,
   "id": "e04bbe4a",
   "metadata": {},
   "outputs": [
    {
     "data": {
      "text/plain": [
       "4"
      ]
     },
     "execution_count": 5,
     "metadata": {},
     "output_type": "execute_result"
    }
   ],
   "source": [
    "P1(4,7)"
   ]
  },
  {
   "cell_type": "code",
   "execution_count": 6,
   "id": "631602e1",
   "metadata": {},
   "outputs": [
    {
     "data": {
      "text/plain": [
       "0"
      ]
     },
     "execution_count": 6,
     "metadata": {},
     "output_type": "execute_result"
    }
   ],
   "source": [
    "P1(0,0)"
   ]
  },
  {
   "cell_type": "code",
   "execution_count": 7,
   "id": "c65a5d38",
   "metadata": {},
   "outputs": [
    {
     "data": {
      "text/plain": [
       "0"
      ]
     },
     "execution_count": 7,
     "metadata": {},
     "output_type": "execute_result"
    }
   ],
   "source": [
    "P1(1,2147483646)"
   ]
  },
  {
   "cell_type": "code",
   "execution_count": 30,
   "id": "eb527201",
   "metadata": {},
   "outputs": [],
   "source": [
    "def P2(n: int) -> bool:\n",
    "    # write your code below\n",
    "    binN = str(bin(n))\n",
    "    i = 3\n",
    "    ans = binN[2]\n",
    "    while i < len(binN):\n",
    "        if binN[i] == ans:\n",
    "            return False\n",
    "        else:\n",
    "            ans = binN[i]\n",
    "            i += 1\n",
    "    return True"
   ]
  },
  {
   "cell_type": "code",
   "execution_count": 31,
   "id": "857a22f6",
   "metadata": {},
   "outputs": [
    {
     "data": {
      "text/plain": [
       "False"
      ]
     },
     "execution_count": 31,
     "metadata": {},
     "output_type": "execute_result"
    }
   ],
   "source": [
    "P2(8)"
   ]
  },
  {
   "cell_type": "code",
   "execution_count": 32,
   "id": "dfdf8cfe",
   "metadata": {},
   "outputs": [
    {
     "data": {
      "text/plain": [
       "True"
      ]
     },
     "execution_count": 32,
     "metadata": {},
     "output_type": "execute_result"
    }
   ],
   "source": [
    "P2(10)"
   ]
  },
  {
   "cell_type": "code",
   "execution_count": 33,
   "id": "1767a58e",
   "metadata": {},
   "outputs": [
    {
     "data": {
      "text/plain": [
       "True"
      ]
     },
     "execution_count": 33,
     "metadata": {},
     "output_type": "execute_result"
    }
   ],
   "source": [
    "P2(1)"
   ]
  },
  {
   "cell_type": "code",
   "execution_count": 34,
   "id": "bfa7d38a",
   "metadata": {},
   "outputs": [
    {
     "data": {
      "text/plain": [
       "False"
      ]
     },
     "execution_count": 34,
     "metadata": {},
     "output_type": "execute_result"
    }
   ],
   "source": [
    "P2(4294967295)"
   ]
  },
  {
   "cell_type": "code",
   "execution_count": 40,
   "id": "914f013c",
   "metadata": {},
   "outputs": [],
   "source": [
    "def P3(num:int)->int:\n",
    "    # write your code below\n",
    "    ans = '{:032b}'.format(num)\n",
    "    ans = ans[::-1]\n",
    "    decimal = 0\n",
    "    for num in ans:\n",
    "        decimal = decimal*2 + int(num)\n",
    "    return decimal"
   ]
  },
  {
   "cell_type": "code",
   "execution_count": 42,
   "id": "54979f6b",
   "metadata": {},
   "outputs": [
    {
     "data": {
      "text/plain": [
       "964176192"
      ]
     },
     "execution_count": 42,
     "metadata": {},
     "output_type": "execute_result"
    }
   ],
   "source": [
    "P3(43261596)"
   ]
  },
  {
   "cell_type": "code",
   "execution_count": 44,
   "id": "f0a94d10",
   "metadata": {},
   "outputs": [
    {
     "data": {
      "text/plain": [
       "3221225471"
      ]
     },
     "execution_count": 44,
     "metadata": {},
     "output_type": "execute_result"
    }
   ],
   "source": [
    "P3(4294967293)"
   ]
  },
  {
   "cell_type": "code",
   "execution_count": 51,
   "id": "cac5d44d",
   "metadata": {},
   "outputs": [],
   "source": [
    "def P4(nums:list)->set:\n",
    "    # write your code below\n",
    "    ans = set()\n",
    "    for num in nums:\n",
    "        if num in ans:\n",
    "            ans.remove(num)\n",
    "        else:\n",
    "            ans.add(num)\n",
    "    return ans"
   ]
  },
  {
   "cell_type": "code",
   "execution_count": 53,
   "id": "82b27d48",
   "metadata": {},
   "outputs": [
    {
     "data": {
      "text/plain": [
       "{3, 5}"
      ]
     },
     "execution_count": 53,
     "metadata": {},
     "output_type": "execute_result"
    }
   ],
   "source": [
    "P4([1,2,1,3,2,5])"
   ]
  },
  {
   "cell_type": "code",
   "execution_count": 54,
   "id": "a22f2df0",
   "metadata": {},
   "outputs": [
    {
     "data": {
      "text/plain": [
       "{-1, 0}"
      ]
     },
     "execution_count": 54,
     "metadata": {},
     "output_type": "execute_result"
    }
   ],
   "source": [
    "P4([-1,0])"
   ]
  },
  {
   "cell_type": "code",
   "execution_count": 55,
   "id": "d3b9d52e",
   "metadata": {},
   "outputs": [
    {
     "data": {
      "text/plain": [
       "{8, 9}"
      ]
     },
     "execution_count": 55,
     "metadata": {},
     "output_type": "execute_result"
    }
   ],
   "source": [
    "P4([1,2,3,4,5,6,7,8,9,1,2,3,4,5,6,7])"
   ]
  },
  {
   "cell_type": "code",
   "execution_count": null,
   "id": "dc9d35da",
   "metadata": {},
   "outputs": [],
   "source": []
  }
 ],
 "metadata": {
  "kernelspec": {
   "display_name": "Python 3",
   "language": "python",
   "name": "python3"
  },
  "language_info": {
   "codemirror_mode": {
    "name": "ipython",
    "version": 3
   },
   "file_extension": ".py",
   "mimetype": "text/x-python",
   "name": "python",
   "nbconvert_exporter": "python",
   "pygments_lexer": "ipython3",
   "version": "3.8.8"
  }
 },
 "nbformat": 4,
 "nbformat_minor": 5
}

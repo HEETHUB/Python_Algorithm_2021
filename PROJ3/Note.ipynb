{
 "cells": [
  {
   "cell_type": "code",
   "execution_count": 57,
   "id": "ea2c7370",
   "metadata": {},
   "outputs": [],
   "source": [
    "\"\"\"\n",
    "**Instruction**\n",
    "Please see instruction document.\n",
    "\n",
    "\"\"\"\n",
    "from BST_Helper import *\n",
    "def P1(root: TreeNode, x:int) -> int:       \n",
    "    ##### Write your Code Here #####\n",
    "    if root:\n",
    "        curNode = root\n",
    "        while curNode.val != x:\n",
    "            if x > curNode.val:\n",
    "                curNode = curNode.right\n",
    "            elif x < curNode.val:\n",
    "                curNode = curNode.left\n",
    "            if curNode == None:\n",
    "                return 0\n",
    "        total = 0\n",
    "        result = list()\n",
    "        thislevel = [curNode]\n",
    "        while thislevel:\n",
    "            nextlevel = list()\n",
    "            none_list=1\n",
    "            for n in thislevel:\n",
    "                if n !=None:\n",
    "                    none_list=0\n",
    "                    break\n",
    "            if none_list==1:\n",
    "                break\n",
    "\n",
    "            for n in thislevel:\n",
    "                if n != None: \n",
    "                    result.append(n.val)\n",
    "                    nextlevel.append(n.left)\n",
    "                    nextlevel.append(n.right)\n",
    "                else:\n",
    "                    result.append(None)\n",
    "                    nextlevel.append(None)\n",
    "                    nextlevel.append(None)        \n",
    "                thislevel = nextlevel\n",
    "        for num in result:\n",
    "            if num:\n",
    "                total += num\n",
    "        total -= result[0]\n",
    "        return total\n",
    "    else:\n",
    "        return 0\n",
    "    ##### End of your code #####"
   ]
  },
  {
   "cell_type": "code",
   "execution_count": 58,
   "id": "0bc24a21",
   "metadata": {},
   "outputs": [],
   "source": [
    "root = create_linked_bst([10,5,15,3,7,9,18])"
   ]
  },
  {
   "cell_type": "code",
   "execution_count": 59,
   "id": "784f993f",
   "metadata": {},
   "outputs": [
    {
     "data": {
      "text/plain": [
       "57"
      ]
     },
     "execution_count": 59,
     "metadata": {},
     "output_type": "execute_result"
    }
   ],
   "source": [
    "P1(root,10)"
   ]
  },
  {
   "cell_type": "code",
   "execution_count": 60,
   "id": "8c1e1359",
   "metadata": {},
   "outputs": [
    {
     "data": {
      "text/plain": [
       "0"
      ]
     },
     "execution_count": 60,
     "metadata": {},
     "output_type": "execute_result"
    }
   ],
   "source": [
    "root = None\n",
    "P1(root, 15)"
   ]
  },
  {
   "cell_type": "code",
   "execution_count": 61,
   "id": "3b042698",
   "metadata": {},
   "outputs": [
    {
     "data": {
      "text/plain": [
       "0"
      ]
     },
     "execution_count": 61,
     "metadata": {},
     "output_type": "execute_result"
    }
   ],
   "source": [
    "P1(root, 20)"
   ]
  },
  {
   "cell_type": "code",
   "execution_count": 62,
   "id": "720bb615",
   "metadata": {},
   "outputs": [
    {
     "data": {
      "text/plain": [
       "17"
      ]
     },
     "execution_count": 62,
     "metadata": {},
     "output_type": "execute_result"
    }
   ],
   "source": [
    "root = create_linked_bst([10,5,15,3,7,None,18,1,None,6])\n",
    "P1(root, 5)"
   ]
  },
  {
   "cell_type": "code",
   "execution_count": 63,
   "id": "66001789",
   "metadata": {},
   "outputs": [
    {
     "data": {
      "text/plain": [
       "31"
      ]
     },
     "execution_count": 63,
     "metadata": {},
     "output_type": "execute_result"
    }
   ],
   "source": [
    "root = create_linked_bst ([10,5,15,3,7,13,18,1,None,6])\n",
    "P1(root,15)"
   ]
  },
  {
   "cell_type": "code",
   "execution_count": 64,
   "id": "0fabb42f",
   "metadata": {},
   "outputs": [
    {
     "data": {
      "text/plain": [
       "0"
      ]
     },
     "execution_count": 64,
     "metadata": {},
     "output_type": "execute_result"
    }
   ],
   "source": [
    "root = create_linked_bst([10,5,15,3,7,9,18,None,None,None,None,6,11])\n",
    "P1(root, 9)"
   ]
  },
  {
   "cell_type": "code",
   "execution_count": 66,
   "id": "3532ad63",
   "metadata": {},
   "outputs": [],
   "source": [
    "%run P1.py"
   ]
  },
  {
   "cell_type": "code",
   "execution_count": 83,
   "id": "9d3efa2f",
   "metadata": {},
   "outputs": [],
   "source": [
    "\"\"\"\n",
    "**Instruction**\n",
    "Please see instruction document.\n",
    "\n",
    "\"\"\"\n",
    "from BST_Helper import *\n",
    "from typing import List\n",
    "def P2(root: TreeNode) -> List[List[int]]:       \n",
    "    ##### Write your Code Here #####\n",
    "    result = []\n",
    "    curLevel = [root]\n",
    "    while curLevel:\n",
    "        val = []\n",
    "        nextLevel = []\n",
    "        for n in curLevel:\n",
    "            if n:\n",
    "                val.append(n.val)\n",
    "                nextLevel.append(n.left)\n",
    "                nextLevel.append(n.right)\n",
    "        if val:\n",
    "            result.append(val)\n",
    "        curLevel = nextLevel\n",
    "    result.reverse()\n",
    "    return result\n",
    "    ##### End of your code #####"
   ]
  },
  {
   "cell_type": "code",
   "execution_count": 84,
   "id": "3a8543a0",
   "metadata": {},
   "outputs": [],
   "source": [
    "root = create_linked_bst ([3,9,20,None,None,15,7])"
   ]
  },
  {
   "cell_type": "code",
   "execution_count": 85,
   "id": "9103d878",
   "metadata": {},
   "outputs": [
    {
     "data": {
      "text/plain": [
       "[[15, 7], [9, 20], [3]]"
      ]
     },
     "execution_count": 85,
     "metadata": {},
     "output_type": "execute_result"
    }
   ],
   "source": [
    "P2(root)"
   ]
  },
  {
   "cell_type": "code",
   "execution_count": 86,
   "id": "7131e434",
   "metadata": {},
   "outputs": [],
   "source": [
    "root = create_linked_bst([10,5,15,3,7,None,18])\n"
   ]
  },
  {
   "cell_type": "code",
   "execution_count": 88,
   "id": "05f6eb64",
   "metadata": {},
   "outputs": [
    {
     "data": {
      "text/plain": [
       "[[3, 7, 18], [5, 15], [10]]"
      ]
     },
     "execution_count": 88,
     "metadata": {},
     "output_type": "execute_result"
    }
   ],
   "source": [
    "P2(root)"
   ]
  },
  {
   "cell_type": "code",
   "execution_count": 90,
   "id": "d57152ae",
   "metadata": {},
   "outputs": [
    {
     "data": {
      "text/plain": [
       "[[2, 4, 7], [3, 6], [5]]"
      ]
     },
     "execution_count": 90,
     "metadata": {},
     "output_type": "execute_result"
    }
   ],
   "source": [
    "root = create_linked_bst([5,3,6,2,4,None,7])\n",
    "P2(root)"
   ]
  },
  {
   "cell_type": "code",
   "execution_count": 1,
   "id": "eb6a6abc",
   "metadata": {},
   "outputs": [],
   "source": [
    "\"\"\"\n",
    "**Instruction**\n",
    "Please see instruction document.\n",
    "\"\"\"\n",
    "from BST_Helper import *\n",
    "def P3(root: TreeNode, val: int) -> TreeNode:    \n",
    "    ##### Write your Code Here #####\n",
    "    curNode = root\n",
    "    curRoot = root\n",
    "    print('Start')\n",
    "    while curNode:\n",
    "        if val < curNode.val:\n",
    "            print(f'val {val} is smaller than curNode {curNode.val}')\n",
    "            if curNode.right and curNode.left:\n",
    "                curNode = curNode.left\n",
    "            elif curNode.right:\n",
    "                curNode.left = TreeNode(val)\n",
    "                print(f'val {val} become curNode.left')\n",
    "                break\n",
    "            elif curNode.left:\n",
    "                if val < curNode.left.val:\n",
    "                    curNode.right = TreeNode(curNode.val)\n",
    "                    curNode.val, curNode.left.val = curNode.left.val, val\n",
    "                    print(f'val {val} is smaller than the leftest {curNode.left.val}, nodes are rearranged')\n",
    "                else:\n",
    "                    curNode.right = TreeNode(curNode.val)\n",
    "                    curNode.val = val\n",
    "                    print(f'val {val} is bigger than the leftest {curNode.left.val}, nodes are rearranged')\n",
    "                break\n",
    "            else:\n",
    "                if val > curRoot.val:\n",
    "                    curRoot.val, val = val, curRoot.val\n",
    "                    curNode = curRoot\n",
    "                    print(f'val {curRoot.val} becomes the curRoot, inserting val {val} starts')\n",
    "                else:\n",
    "                    curRoot = root.left\n",
    "                    curNode = curRoot\n",
    "                    print(f'val {curRoot.val} becomes the curRoot {val}, inserting val {val} starts')\n",
    "        elif val > curNode.val:\n",
    "                print(f'val {val} is bigger than curNode {curNode.val}')\n",
    "                if curNode.right and curNode.left:\n",
    "                    curNode = curNode.right\n",
    "                elif curNode.left:\n",
    "                    curNode.right = TreeNode(val)\n",
    "                    print(f'val {val} become curNode.right')\n",
    "                    break\n",
    "                elif curNode.right:\n",
    "                    if val > curNode.right.val:\n",
    "                        curNode.left = TreeNode(curNode.val)\n",
    "                        curNode.val, curNode.right.val = curNode.right.val, val\n",
    "                        print(f'val {val} is bigger than the rightest {curNode.right.val}, nodes are rearranged')\n",
    "                    else:\n",
    "                        curNode.left = TreeNode(curNode.val)\n",
    "                        curNode.val = val\n",
    "                        print(f'val {val} is smaller than the rightest {curNode.right.val}, nodes are rearranged')\n",
    "                    break\n",
    "                else:\n",
    "                    if val < curRoot.val:\n",
    "                        curRoot.val, val = val, curRoot.val\n",
    "                        curNode = curRoot\n",
    "                        print(f'val {curRoot.val} becomes the curRoot {val}, inserting val {val} starts')\n",
    "                    else:\n",
    "                        curRoot = root.right\n",
    "                        curNode = curRoot\n",
    "                        print(f'val {curRoot.val} becomes the curRoot {val}, inserting val {val} starts')\n",
    "    print('Finish!')\n",
    "    return root\n",
    "    ##### End of your code #####\n",
    "\n",
    "\n"
   ]
  },
  {
   "cell_type": "code",
   "execution_count": 2,
   "id": "94ac9793",
   "metadata": {},
   "outputs": [],
   "source": [
    "root = create_linked_bst( [7,3,8,2,5,None,9])"
   ]
  },
  {
   "cell_type": "code",
   "execution_count": 3,
   "id": "1fa66d3e",
   "metadata": {},
   "outputs": [
    {
     "name": "stdout",
     "output_type": "stream",
     "text": [
      "Start\n",
      "val 6 is smaller than curNode 7\n",
      "val 6 is bigger than curNode 3\n",
      "val 6 is bigger than curNode 5\n",
      "val 6 becomes the curRoot 7, inserting val 7 starts\n",
      "val 7 is bigger than curNode 6\n",
      "val 7 is smaller than curNode 8\n",
      "val 7 become curNode.left\n",
      "Finish!\n",
      "[6, 3, 8, 2, 5, 7, 9]\n"
     ]
    }
   ],
   "source": [
    "fullBST = P3(root, 6)\n",
    "print(fullBST.printTree())"
   ]
  },
  {
   "cell_type": "code",
   "execution_count": 4,
   "id": "66a0530f",
   "metadata": {},
   "outputs": [
    {
     "name": "stdout",
     "output_type": "stream",
     "text": [
      "Start\n",
      "val 10 is bigger than curNode 7\n",
      "val 10 is bigger than curNode 8\n",
      "val 10 is bigger than the rightest 10, nodes are rearranged\n",
      "Finish!\n",
      "[7, 3, 9, 2, 5, 8, 10]\n"
     ]
    }
   ],
   "source": [
    "root = create_linked_bst( [7,3,8,2,5,None,9])\n",
    "fullBST = P3(root, 10)\n",
    "print(fullBST.printTree())"
   ]
  },
  {
   "cell_type": "code",
   "execution_count": 5,
   "id": "e6cc44a3",
   "metadata": {},
   "outputs": [
    {
     "name": "stdout",
     "output_type": "stream",
     "text": [
      "Start\n",
      "val 7 is smaller than curNode 10\n",
      "val 7 is bigger than curNode 5\n",
      "val 7 is bigger than curNode 6\n",
      "val 7 is smaller than the rightest 8, nodes are rearranged\n",
      "Finish!\n",
      "[10, 5, 15, 3, 7, 12, 18, 1, 4, 6, 8, 11, 13, 16, 20]\n"
     ]
    }
   ],
   "source": [
    "root = create_linked_bst( [10,5,15,3,6,12,18,1,4,None,8,11,13,16,20])\n",
    "fullBST = P3(root, 7)\n",
    "print(fullBST.printTree())"
   ]
  },
  {
   "cell_type": "code",
   "execution_count": 6,
   "id": "12744bd8",
   "metadata": {
    "scrolled": true
   },
   "outputs": [
    {
     "name": "stdout",
     "output_type": "stream",
     "text": [
      "Start\n",
      "val 14 is bigger than curNode 10\n",
      "val 14 is smaller than curNode 15\n",
      "val 14 is bigger than curNode 12\n",
      "val 14 is bigger than curNode 13\n",
      "val 15 becomes the curRoot 14, inserting val 14 starts\n",
      "val 14 is smaller than curNode 15\n",
      "val 14 is bigger than curNode 12\n",
      "val 14 is bigger than curNode 13\n",
      "val 14 becomes the curRoot 15, inserting val 15 starts\n",
      "val 15 is bigger than curNode 14\n",
      "val 15 is smaller than curNode 18\n",
      "val 15 become curNode.left\n",
      "Finish!\n",
      "[10, 5, 14, 3, 7, 12, 18, 1, 4, 6, 8, 11, 13, 15, 20]\n"
     ]
    }
   ],
   "source": [
    "root = create_linked_bst( [10,5,15,3,7,12,18,1,4,6,8,11,13,None,20]) \n",
    "fullBST = P3(root, 14)\n",
    "print(fullBST .printTree())"
   ]
  },
  {
   "cell_type": "code",
   "execution_count": null,
   "id": "01749e53",
   "metadata": {},
   "outputs": [],
   "source": []
  },
  {
   "cell_type": "code",
   "execution_count": null,
   "id": "874ec4ff",
   "metadata": {},
   "outputs": [],
   "source": []
  }
 ],
 "metadata": {
  "kernelspec": {
   "display_name": "Python 3",
   "language": "python",
   "name": "python3"
  },
  "language_info": {
   "codemirror_mode": {
    "name": "ipython",
    "version": 3
   },
   "file_extension": ".py",
   "mimetype": "text/x-python",
   "name": "python",
   "nbconvert_exporter": "python",
   "pygments_lexer": "ipython3",
   "version": "3.8.8"
  }
 },
 "nbformat": 4,
 "nbformat_minor": 5
}

{
 "cells": [
  {
   "cell_type": "code",
   "execution_count": 7,
   "id": "77841f31",
   "metadata": {},
   "outputs": [
    {
     "ename": "SyntaxError",
     "evalue": "invalid syntax (<ipython-input-7-cab618b76149>, line 4)",
     "output_type": "error",
     "traceback": [
      "\u001b[0;36m  File \u001b[0;32m\"<ipython-input-7-cab618b76149>\"\u001b[0;36m, line \u001b[0;32m4\u001b[0m\n\u001b[0;31m    swap(&valA,&valB)\u001b[0m\n\u001b[0m         ^\u001b[0m\n\u001b[0;31mSyntaxError\u001b[0m\u001b[0;31m:\u001b[0m invalid syntax\n"
     ]
    }
   ],
   "source": [
    "valA = 7\n",
    "valB = 5\n",
    "print(f\"Before swap: valA = {valA}, valB = {valB}\")\n",
    "swap(&valA,&valB)\n",
    "print(f\"After swap: valA = {valA}, valB = {valB}\")\n",
    "\n",
    "def swap(*A, *B):\n",
    "    tempVal = *A\n",
    "    *A = *B\n",
    "    *B = tempVal\n",
    "    print(f\"in Swap: valA = {A}, valB = {B}\")\n",
    "    return A, B\n"
   ]
  },
  {
   "cell_type": "code",
   "execution_count": 9,
   "id": "51b23194",
   "metadata": {},
   "outputs": [
    {
     "name": "stdout",
     "output_type": "stream",
     "text": [
      "ABCdef\n",
      "ABCdef\n",
      "ch is upper\n",
      "A\n",
      "ch is upper\n",
      "B\n",
      "ch is upper\n",
      "C\n",
      "ch is lower\n",
      "d\n",
      "ch is lower\n",
      "e\n",
      "ch is lower\n",
      "f\n",
      "abcDEF\n"
     ]
    }
   ],
   "source": [
    "a = input()\n",
    "def change(a):\n",
    "    b = ''\n",
    "    for ch in a:\n",
    "        if ch.isupper() == True:\n",
    "            print(\"ch is upper\")\n",
    "            b += ch.lower()\n",
    "            print(ch)\n",
    "        elif ch.islower() == True:\n",
    "            print(\"ch is lower\")\n",
    "            b += ch.upper()\n",
    "            print(ch)\n",
    "    return b\n",
    "print(a)\n",
    "print(change(a))"
   ]
  }
 ],
 "metadata": {
  "kernelspec": {
   "display_name": "Python 3",
   "language": "python",
   "name": "python3"
  },
  "language_info": {
   "codemirror_mode": {
    "name": "ipython",
    "version": 3
   },
   "file_extension": ".py",
   "mimetype": "text/x-python",
   "name": "python",
   "nbconvert_exporter": "python",
   "pygments_lexer": "ipython3",
   "version": "3.8.2"
  }
 },
 "nbformat": 4,
 "nbformat_minor": 5
}

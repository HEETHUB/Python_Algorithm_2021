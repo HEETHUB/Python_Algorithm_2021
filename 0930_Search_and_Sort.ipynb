{
 "cells": [
  {
   "cell_type": "code",
   "execution_count": 17,
   "id": "727b431b",
   "metadata": {},
   "outputs": [],
   "source": [
    "def linear_search_while(L: list, value) -> int:\n",
    "    i = 0\n",
    "    while i < len(L) and L[i] != value:\n",
    "        i = i + 1\n",
    "    if i == len(L):\n",
    "        return -1\n",
    "    else:\n",
    "        return i\n",
    "\n",
    "def linear_search_sentinel(L: list, value) -> int:\n",
    "    L.append(value) # Add the sentinel\n",
    "    i = 0\n",
    "    while L[i] != value: # This condition is enough!\n",
    "        i = i + 1\n",
    "    L.pop()\n",
    "    if i == len(L):\n",
    "        return -1\n",
    "    else:\n",
    "        return i\n",
    "    # but! list를 함수 내에서 조작하는 것이 싫다 -> 사용 안함\n",
    "    \n",
    "def linear_search_for(L: list, value) -> int:\n",
    "    for i in range(len(L)):\n",
    "        if L[i] == value:\n",
    "            return i\n",
    "    return -1\n",
    "\n",
    "def binary_search(L: list, value) -> int:\n",
    "    start, end = 0, len(L) - 1\n",
    "    while start != end + 1:\n",
    "        mid = (start + end) // 2\n",
    "        if L[mid] < value:\n",
    "            start = mid + 1\n",
    "        else:\n",
    "            end = mid - 1\n",
    "    if start < len(L) and L[start] == value:\n",
    "        return start\n",
    "    else:\n",
    "        return -1\n",
    "    \n",
    "def selection_sort(L: list) -> None:\n",
    "    for i in range(len(L)):\n",
    "        # Find the index of the smallest item in L[i]: smallest\n",
    "        smallest = i\n",
    "        for j in range(i+1, len(L)):\n",
    "            if L[j] < L[smallest]:\n",
    "                smallest = j\n",
    "        L[i], L[smallest] = L[smallest], L[i]\n",
    "        \n",
    "# def insert(L: list, last_idx: int) -> None:\n",
    "#     for i in range(last_idx,0 ,-1): # (1) Go backwards\n",
    "#         if L[i-1] > L[i]:           # (2) Check stopping condition\n",
    "#             L[i], L[i-1] = L[i-1], L[i]  # (3) Swap\n",
    "#         else:\n",
    "#             break\n",
    "        \n",
    "def insertion_sort(L: list) -> None:\n",
    "    for i in range(1, len(L)):\n",
    "        # Insert L[i] to the proper location of L[:i]\n",
    "        for j in range(i,0 ,-1): # (1) Go backwards\n",
    "            if L[j-1] > L[j]:           # (2) Check stopping condition\n",
    "                L[j], L[j-1] = L[j-1], L[j]  # (3) Swap\n",
    "            else:\n",
    "                break\n",
    "            "
   ]
  },
  {
   "cell_type": "code",
   "execution_count": 18,
   "id": "faf1d3b4",
   "metadata": {},
   "outputs": [
    {
     "name": "stdout",
     "output_type": "stream",
     "text": [
      "[2, 3, 5, 0, -3, -4, 8, 33, -10]\n",
      "[-10, -4, -3, 0, 2, 3, 5, 8, 33]\n"
     ]
    }
   ],
   "source": [
    "a = [2,3,5,0,-3,-4,8,33,-10]\n",
    "print(a)\n",
    "insertion_sort(a)\n",
    "print(a)"
   ]
  },
  {
   "cell_type": "code",
   "execution_count": 8,
   "id": "520690ba",
   "metadata": {},
   "outputs": [
    {
     "name": "stdout",
     "output_type": "stream",
     "text": [
      "10\n",
      "9\n",
      "8\n",
      "7\n",
      "6\n",
      "5\n",
      "4\n",
      "3\n",
      "2\n"
     ]
    }
   ],
   "source": [
    "for i in range(10, 1, -1):\n",
    "    print(i)"
   ]
  },
  {
   "cell_type": "code",
   "execution_count": 4,
   "id": "80b87d3d",
   "metadata": {},
   "outputs": [],
   "source": [
    "import time\n",
    "t_start = time.perf_counter()\n",
    "\n",
    "t_end = time.perf_counter()\n"
   ]
  }
 ],
 "metadata": {
  "kernelspec": {
   "display_name": "Python 3",
   "language": "python",
   "name": "python3"
  },
  "language_info": {
   "codemirror_mode": {
    "name": "ipython",
    "version": 3
   },
   "file_extension": ".py",
   "mimetype": "text/x-python",
   "name": "python",
   "nbconvert_exporter": "python",
   "pygments_lexer": "ipython3",
   "version": "3.8.8"
  }
 },
 "nbformat": 4,
 "nbformat_minor": 5
}

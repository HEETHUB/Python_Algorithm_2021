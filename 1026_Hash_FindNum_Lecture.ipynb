{
 "cells": [
  {
   "cell_type": "code",
   "execution_count": 18,
   "id": "afa8f44a",
   "metadata": {},
   "outputs": [],
   "source": [
    "def findNum(L: list, x: int) -> list:\n",
    "    for i in range(len(L)):\n",
    "        n = x - L[i]\n",
    "        if n in L:\n",
    "            return [i, L.index(n)]\n",
    "        "
   ]
  },
  {
   "cell_type": "code",
   "execution_count": 24,
   "id": "559215ac",
   "metadata": {},
   "outputs": [
    {
     "data": {
      "text/plain": [
       "[4, 6]"
      ]
     },
     "execution_count": 24,
     "metadata": {},
     "output_type": "execute_result"
    }
   ],
   "source": [
    "a = [22,54,2,-3,55,3,235,1]\n",
    "b = 290\n",
    "findNum(a, b)"
   ]
  },
  {
   "cell_type": "code",
   "execution_count": 13,
   "id": "92e2961e",
   "metadata": {},
   "outputs": [],
   "source": [
    "def findnum(L: list, x: int) -> list:\n",
    "    for i in range(len(L)):\n",
    "        for m in range(i+1, len(L)):\n",
    "            if L[i] + L[m] == x:\n",
    "                return [i, m]"
   ]
  },
  {
   "cell_type": "code",
   "execution_count": 16,
   "id": "76b71f72",
   "metadata": {},
   "outputs": [
    {
     "data": {
      "text/plain": [
       "[4, 6]"
      ]
     },
     "execution_count": 16,
     "metadata": {},
     "output_type": "execute_result"
    }
   ],
   "source": [
    "findNum(a, b)"
   ]
  },
  {
   "cell_type": "code",
   "execution_count": 20,
   "id": "aa68ce1c",
   "metadata": {},
   "outputs": [],
   "source": [
    "def findnumHash(L: list, x: int) -> list:\n",
    "    dic = {}\n",
    "    for i in range(len(L)):\n",
    "        dic[L[i]] = i\n",
    "        if x - L[i] in dic :\n",
    "            return [i, dic[x - L[i]]]\n",
    "\n",
    "        #     for num in L:\n",
    "#         if x - num in dic:\n",
    "#             return [dic[num], dic[x - num]]\n",
    "        "
   ]
  },
  {
   "cell_type": "code",
   "execution_count": 21,
   "id": "0b54ff62",
   "metadata": {},
   "outputs": [
    {
     "data": {
      "text/plain": [
       "[6, 4]"
      ]
     },
     "execution_count": 21,
     "metadata": {},
     "output_type": "execute_result"
    }
   ],
   "source": [
    "findnumHash(a, b)"
   ]
  },
  {
   "cell_type": "code",
   "execution_count": 31,
   "id": "7a570efa",
   "metadata": {},
   "outputs": [],
   "source": [
    "def findnumHash(L: list, x: int) -> list:\n",
    "    L.sort()\n",
    "    print(L)\n",
    "    i = len(L) - 1\n",
    "    j = 1\n",
    "    while L[i] > x:\n",
    "        i = i // 2\n",
    "    while i > j:\n",
    "        if L[j] + L[i] == x:\n",
    "            return [j, i]\n",
    "        elif L[j] + L[i] > x:\n",
    "            i -= 1\n",
    "        else:\n",
    "            j += 1\n",
    "    return None"
   ]
  },
  {
   "cell_type": "code",
   "execution_count": 32,
   "id": "833ccb24",
   "metadata": {},
   "outputs": [
    {
     "name": "stdout",
     "output_type": "stream",
     "text": [
      "[-3, 1, 2, 3, 22, 54, 55, 235]\n"
     ]
    },
    {
     "data": {
      "text/plain": [
       "[6, 7]"
      ]
     },
     "execution_count": 32,
     "metadata": {},
     "output_type": "execute_result"
    }
   ],
   "source": [
    "findnumHash(a, b)\n"
   ]
  },
  {
   "cell_type": "code",
   "execution_count": null,
   "id": "6e06c51c",
   "metadata": {},
   "outputs": [],
   "source": []
  }
 ],
 "metadata": {
  "kernelspec": {
   "display_name": "Python 3",
   "language": "python",
   "name": "python3"
  },
  "language_info": {
   "codemirror_mode": {
    "name": "ipython",
    "version": 3
   },
   "file_extension": ".py",
   "mimetype": "text/x-python",
   "name": "python",
   "nbconvert_exporter": "python",
   "pygments_lexer": "ipython3",
   "version": "3.8.8"
  }
 },
 "nbformat": 4,
 "nbformat_minor": 5
}

{
 "cells": [
  {
   "cell_type": "code",
   "execution_count": 1,
   "id": "99f3eab7",
   "metadata": {},
   "outputs": [],
   "source": [
    "from typing import List\n",
    "def P1(rooms: List[list]) -> int:\n",
    "    ##### Write your Code Here #####\n",
    "    m = len(rooms)\n",
    "    n = len(rooms[0])\n",
    "    ans = 0\n",
    "    visit = [[0 for _ in range(n)] for _ in range(m)]\n",
    "    \n",
    "    def spread(rooms, visit, m, n, i, j):\n",
    "        if 0<=i<m and 0<=j<n and rooms[i][j] == 0:\n",
    "            visit[i][j] = 1\n",
    "            spread(rooms, visit, m, n, i+1, j)\n",
    "            spread(rooms, visit, m, n, i-1, j)\n",
    "            spread(rooms, visit, m, n, i, j+1)\n",
    "            spread(rooms, visit, m, n, i, j-1)\n",
    "    \n",
    "    for i in range(m):\n",
    "        for j in range(n):\n",
    "            if rooms[i][j] == 1:\n",
    "                spread(rooms, visit, m, n, i, j)\n",
    "            \n",
    "                \n",
    "    \n",
    "    \n",
    "    ##### End of your code #####"
   ]
  },
  {
   "cell_type": "code",
   "execution_count": 11,
   "id": "760dc4ef",
   "metadata": {},
   "outputs": [],
   "source": [
    "from typing import List\n",
    "def P2(n: int, edges: List[tuple]) -> int:\n",
    "    ##### Write your Code Here #####\n",
    "    if n <= 1:\n",
    "        return 1\n",
    "    ans = set()\n",
    "    for edge in edges:\n",
    "        if 1 in edge:\n",
    "            for num in edge:\n",
    "                ans.add(num)\n",
    "    \n",
    "    for edge in edges:\n",
    "        for num in edge:\n",
    "            if num in ans:\n",
    "                for n in edge:\n",
    "                    ans.add(n)\n",
    "    return len(ans)\n",
    "    ##### End of your code #####"
   ]
  },
  {
   "cell_type": "code",
   "execution_count": 12,
   "id": "2908ace2",
   "metadata": {},
   "outputs": [
    {
     "name": "stdout",
     "output_type": "stream",
     "text": [
      "1\n"
     ]
    }
   ],
   "source": [
    "a = set()\n",
    "a.add(1)\n",
    "print(len(a))"
   ]
  },
  {
   "cell_type": "code",
   "execution_count": 13,
   "id": "b1b2f043",
   "metadata": {},
   "outputs": [
    {
     "data": {
      "text/plain": [
       "1"
      ]
     },
     "execution_count": 13,
     "metadata": {},
     "output_type": "execute_result"
    }
   ],
   "source": [
    "P2(1, [])"
   ]
  },
  {
   "cell_type": "code",
   "execution_count": 15,
   "id": "f081209d",
   "metadata": {},
   "outputs": [
    {
     "data": {
      "text/plain": [
       "2"
      ]
     },
     "execution_count": 15,
     "metadata": {},
     "output_type": "execute_result"
    }
   ],
   "source": [
    "P2(3, [(1,2)])"
   ]
  },
  {
   "cell_type": "code",
   "execution_count": 17,
   "id": "46aaf7b8",
   "metadata": {},
   "outputs": [
    {
     "data": {
      "text/plain": [
       "2"
      ]
     },
     "execution_count": 17,
     "metadata": {},
     "output_type": "execute_result"
    }
   ],
   "source": [
    "P2(4, [(1, 2), (2, 1)])"
   ]
  },
  {
   "cell_type": "code",
   "execution_count": 20,
   "id": "e84484ad",
   "metadata": {},
   "outputs": [],
   "source": [
    "from typing import List\n",
    "def P3(image: List[list]) -> int:\n",
    "    ##### Write your Code Here #####\n",
    "    m = len(image)\n",
    "    n = len(image[0])\n",
    "    ans = 0\n",
    "    visit = [[0 for _ in range(n)] for _ in range(m)]\n",
    "    \n",
    "    def dfs(image, visit, m, n, i, j):\n",
    "        if 0<=i<m and 0<=j<n and image[i][j] == 1 and visit[i][j] == 0:\n",
    "            visit[i][j] = 1\n",
    "            dfs(image, visit, m, n, i+1, j)\n",
    "            dfs(image, visit, m, n, i-1, j)\n",
    "            dfs(image, visit, m, n, i, j+1)\n",
    "            dfs(image, visit, m, n, i, j-1)\n",
    "            dfs(image, visit, m, n, i+1, j+1)\n",
    "            dfs(image, visit, m, n, i-1, j+1)\n",
    "            dfs(image, visit, m, n, i+1, j-1)\n",
    "            dfs(image, visit, m, n, i-1, j-1)\n",
    "    \n",
    "    for i in range(m):\n",
    "        for j in range(n):\n",
    "            if image[i][j] == 1 and visit[i][j] == 0:\n",
    "                ans += 1\n",
    "                dfs(image, visit, m, n, i, j)\n",
    "    \n",
    "    return ans\n",
    "            \n",
    "    ##### End of your code #####"
   ]
  },
  {
   "cell_type": "code",
   "execution_count": 22,
   "id": "52fbcb6d",
   "metadata": {},
   "outputs": [
    {
     "data": {
      "text/plain": [
       "4"
      ]
     },
     "execution_count": 22,
     "metadata": {},
     "output_type": "execute_result"
    }
   ],
   "source": [
    "P3([[0, 1, 1, 0, 0, 0, 0, 0, 0, 0, 0, 1, 1, 0, 0, 0, 0, 0], [0, 1, 1, 0, 0, 0, 0, 0, 0, 0, 1, 0, 0, 1, 0, 0, 0, 0], [0, 1, 1, 0, 0, 0, 0, 0, 0, 1, 0, 0, 0, 0, 1, 0, 0, 0], [0, 1, 1, 0, 0, 0, 0, 0, 0, 1, 0, 0, 0, 0, 1, 0, 0, 0], [0, 1, 1, 0, 0, 0, 0, 0, 0, 1, 0, 0, 0, 0, 1, 0, 0, 0], [0, 1, 1, 1, 1, 1, 0, 0, 0, 0, 1, 0, 0, 1, 0, 0, 0, 0], [0, 1, 1, 1, 1, 1, 0, 0, 0, 0, 0, 1, 1, 0, 0, 0, 0, 0], [0, 0, 0, 0, 0, 0, 0, 0, 0, 0, 0, 0, 0, 0, 0, 0, 0, 0], [0, 1, 0, 0, 0, 0, 0, 1, 0, 0, 0, 1, 1, 1, 1, 1, 1, 0], [0, 1, 1, 0, 0, 0, 1, 1, 0, 0, 0, 1, 0, 0, 0, 0, 0, 0], [0, 0, 1, 1, 0, 1, 1, 0, 0, 0, 0, 1, 1, 1, 1, 1, 1, 0], [0, 0, 1, 1, 0, 1, 1, 0, 0, 0, 0, 1, 0, 0, 0, 0, 0, 0], [0, 0, 0, 1, 1, 1, 0, 0, 0, 0, 0, 1, 0, 0, 0, 0, 0, 0], [0, 0, 0, 0, 1, 0, 0, 0, 0, 0, 0, 1, 1, 1, 1, 1, 1, 0], [0, 0, 0, 0, 0, 0, 0, 0, 0, 0, 0, 0, 0, 0, 0, 0, 0, 0]])"
   ]
  }
 ],
 "metadata": {
  "kernelspec": {
   "display_name": "Python 3",
   "language": "python",
   "name": "python3"
  },
  "language_info": {
   "codemirror_mode": {
    "name": "ipython",
    "version": 3
   },
   "file_extension": ".py",
   "mimetype": "text/x-python",
   "name": "python",
   "nbconvert_exporter": "python",
   "pygments_lexer": "ipython3",
   "version": "3.8.8"
  }
 },
 "nbformat": 4,
 "nbformat_minor": 5
}

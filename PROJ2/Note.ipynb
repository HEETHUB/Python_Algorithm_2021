{
 "cells": [
  {
   "cell_type": "markdown",
   "id": "1eacd5f2",
   "metadata": {},
   "source": [
    "## P1"
   ]
  },
  {
   "cell_type": "code",
   "execution_count": 1,
   "id": "132758e9",
   "metadata": {},
   "outputs": [],
   "source": [
    "\"\"\"\n",
    "**Instruction**\n",
    "Please see instruction document.\n",
    "\n",
    "\"\"\"\n",
    "def P1(parentheses: str) -> bool:        \n",
    "    ##### Write your Code Here #####\n",
    "    stack = []\n",
    "    for i in parentheses : \n",
    "        if i == ')' :\n",
    "            if stack[-1] == '(' :\n",
    "                stack.pop()\n",
    "            else : \n",
    "                return False \n",
    "        elif i == ']':\n",
    "            if stack[-1] == '[':\n",
    "                stack.pop()\n",
    "            else :\n",
    "                return False\n",
    "        elif i == '}':\n",
    "            if stack[-1] == '{':\n",
    "                stack.pop()\n",
    "            else :\n",
    "                return False \n",
    "        else :\n",
    "            stack.append(i)\n",
    "    if stack :\n",
    "        return False\n",
    "    else :\n",
    "        return True\n",
    "    ##### End of your code #####\n",
    "    "
   ]
  },
  {
   "cell_type": "markdown",
   "id": "9ec35c48",
   "metadata": {},
   "source": [
    "## P2"
   ]
  },
  {
   "cell_type": "code",
   "execution_count": 40,
   "id": "05d5cc6d",
   "metadata": {},
   "outputs": [],
   "source": [
    "\"\"\"\n",
    "**Instruction**\n",
    "Please see instruction document.\n",
    "\n",
    "\"\"\"\n",
    "def P2(stock_price: list) -> list:        \n",
    "    ##### Write your Code Here #####\n",
    "    L = []\n",
    "    for i in range(len(stock_price)):\n",
    "        L.append(0)\n",
    "        j = i+1\n",
    "        while j < len(stock_price):\n",
    "            if stock_price[j] > stock_price[i]:\n",
    "                L[i] = j-i\n",
    "                break\n",
    "            else:\n",
    "                j += 1               \n",
    "    return L\n",
    "    ##### End of your code #####\n"
   ]
  },
  {
   "cell_type": "markdown",
   "id": "a3cfdcf4",
   "metadata": {},
   "source": [
    "## P3"
   ]
  },
  {
   "cell_type": "code",
   "execution_count": 41,
   "id": "03ecd1d0",
   "metadata": {},
   "outputs": [],
   "source": [
    "\"\"\"\n",
    "**Instruction**\n",
    "Please see instruction document.\n",
    "\n",
    "\"\"\"\n",
    "from linked_list_helper import *\n",
    "\n",
    "def P3(head: ListNode) -> ListNode: \n",
    "    ##### Write your Code Here #####\n",
    "    rev_head = None\n",
    "    while head:\n",
    "        rev_head, rev_head.next, head = head, rev_head, head.next\n",
    "    return rev_head\n",
    "    ##### End of your code #####\n"
   ]
  },
  {
   "cell_type": "markdown",
   "id": "d4bf7a2f",
   "metadata": {},
   "source": [
    "## P4 - Heet's Sol"
   ]
  },
  {
   "cell_type": "code",
   "execution_count": 42,
   "id": "e2c63db7",
   "metadata": {},
   "outputs": [],
   "source": [
    "from linked_list_helper import ListNode\n",
    "\n",
    "def P4(num1: ListNode, num2: ListNode) -> ListNode: \n",
    "    ##### Write your Code Here #####\n",
    "    rev_num1, rev_num2 = None, None\n",
    "    # Linked List 뒤집기\n",
    "    while num1:\n",
    "        rev_num1, rev_num1.next, num1 = num1, rev_num1, num1.next\n",
    "    while num2:\n",
    "        rev_num2, rev_num2.next, num2 = num2, rev_num2, num2.next\n",
    "    # 뒤집은 Linked List들끼리 덧셈\n",
    "    start = rev_num1\n",
    "    while rev_num1 or rev_num2:\n",
    "        if rev_num1 and rev_num2:\n",
    "            rev_num1.val += rev_num2.val\n",
    "            if rev_num1.next:\n",
    "                rev_num1, rev_num2 = rev_num1.next, rev_num2.next\n",
    "            elif rev_num2.next:\n",
    "                rev_num1.next = ListNode(0)\n",
    "                rev_num1, rev_num2 = rev_num1.next, rev_num2.next\n",
    "            else:\n",
    "                rev_num1, rev_num2 = rev_num1.next, rev_num2.next\n",
    "        elif rev_num1:\n",
    "            rev_num1 = rev_num1.next\n",
    "    rev_num1 = start\n",
    "    # 자릿수 맞춰주기\n",
    "    while rev_num1:\n",
    "        if rev_num1.val >= 10:\n",
    "            rev_num1.val -= 10\n",
    "            if rev_num1.next:\n",
    "                rev_num1.next.val += 1\n",
    "                rev_num1 = rev_num1.next\n",
    "            else:\n",
    "                newNode = ListNode(1)\n",
    "                rev_num1.next = newNode\n",
    "                rev_num1 = rev_num1.next\n",
    "        else:\n",
    "            rev_num1 = rev_num1.next\n",
    "    rev_num1 = start\n",
    "    # 덧셈 완료된 Linked List를 다시 뒤집기\n",
    "    fin_num = None\n",
    "    while rev_num1:\n",
    "        fin_num, fin_num.next, rev_num1 = rev_num1, fin_num, rev_num1.next\n",
    "    return fin_num\n",
    "    ##### End of your code #####\n",
    "\n"
   ]
  },
  {
   "cell_type": "markdown",
   "id": "ecf34c26",
   "metadata": {},
   "source": [
    "## P4 - Another Sol"
   ]
  },
  {
   "cell_type": "code",
   "execution_count": 43,
   "id": "e1de56df",
   "metadata": {},
   "outputs": [],
   "source": [
    "from linked_list_helper import ListNode\n",
    "\n",
    "def P4_1(num1: ListNode, num2: ListNode) -> ListNode: \n",
    "    ##### Write your Code Here #####\n",
    "    # Linked List 뒤집기\n",
    "    rev_num1, rev_num2 = None, None\n",
    "    while num1:\n",
    "        rev_num1, rev_num1.next, num1 = num1, rev_num1, num1.next\n",
    "    while num2:\n",
    "        rev_num2, rev_num2.next, num2 = num2, rev_num2, num2.next\n",
    "    # num1, num2를 숫자로 변환\n",
    "    con_num1, con_num2 = 0, 0\n",
    "    place = 1\n",
    "    while rev_num1:\n",
    "        con_num1 += rev_num1.val * place\n",
    "        rev_num1 = rev_num1.next\n",
    "        place *= 10\n",
    "    place = 1\n",
    "    while rev_num2:\n",
    "        con_num2 += rev_num2.val * place\n",
    "        rev_num2 = rev_num2.next\n",
    "        place *= 10\n",
    "    # 두 수 덧셈\n",
    "    result = str(con_num1 + con_num2)\n",
    "    # 결과를 Linked List로 변환\n",
    "    start = ListNode(int(result[0]))\n",
    "    node = start\n",
    "    \n",
    "    for i in range(1, len(result)):\n",
    "        node_new = ListNode(int(result[i]))\n",
    "        node.next = node_new\n",
    "        node = node_new\n",
    "    \n",
    "    return start\n",
    "    ##### End of your code #####\n",
    "\n"
   ]
  },
  {
   "cell_type": "code",
   "execution_count": 44,
   "id": "465b7145",
   "metadata": {},
   "outputs": [
    {
     "data": {
      "text/plain": [
       "True"
      ]
     },
     "execution_count": 44,
     "metadata": {},
     "output_type": "execute_result"
    }
   ],
   "source": [
    "P1('()')"
   ]
  },
  {
   "cell_type": "code",
   "execution_count": 45,
   "id": "1522aacc",
   "metadata": {},
   "outputs": [
    {
     "data": {
      "text/plain": [
       "False"
      ]
     },
     "execution_count": 45,
     "metadata": {},
     "output_type": "execute_result"
    }
   ],
   "source": [
    "P1('[]{(})')"
   ]
  },
  {
   "cell_type": "code",
   "execution_count": 46,
   "id": "92cec5ef",
   "metadata": {},
   "outputs": [
    {
     "data": {
      "text/plain": [
       "[1, 1, 3, 1, 1, 1, 0, 0]"
      ]
     },
     "execution_count": 46,
     "metadata": {},
     "output_type": "execute_result"
    }
   ],
   "source": [
    "P2([200,300,600,400,500,700,800,100])"
   ]
  },
  {
   "cell_type": "code",
   "execution_count": 47,
   "id": "182f3d78",
   "metadata": {},
   "outputs": [
    {
     "name": "stdout",
     "output_type": "stream",
     "text": [
      "[3, 1, 2, 4]\n"
     ]
    }
   ],
   "source": [
    "l1 = create_linked_list([4,2,1,3])\n",
    "print_linked_list(P3(l1),[])"
   ]
  },
  {
   "cell_type": "code",
   "execution_count": 48,
   "id": "c183a796",
   "metadata": {},
   "outputs": [
    {
     "name": "stdout",
     "output_type": "stream",
     "text": [
      "[3, 2, 0, 5, -1]\n"
     ]
    }
   ],
   "source": [
    "l2 = create_linked_list([-1,5,0,2,3]) \n",
    "print_linked_list(P3(l2),[])"
   ]
  },
  {
   "cell_type": "code",
   "execution_count": 49,
   "id": "6027f991",
   "metadata": {},
   "outputs": [
    {
     "name": "stdout",
     "output_type": "stream",
     "text": [
      "[]\n"
     ]
    }
   ],
   "source": [
    "l3 = create_linked_list([])\n",
    "print_linked_list(P3(l3),[])"
   ]
  },
  {
   "cell_type": "code",
   "execution_count": 50,
   "id": "d0855270",
   "metadata": {},
   "outputs": [
    {
     "name": "stdout",
     "output_type": "stream",
     "text": [
      "[4, 4, 8, 7]\n"
     ]
    }
   ],
   "source": [
    "a = create_linked_list([4,2,5,3])\n",
    "b = create_linked_list([2,3,4])\n",
    "print_linked_list(P4(a,b),[])"
   ]
  },
  {
   "cell_type": "code",
   "execution_count": 51,
   "id": "1360cf95",
   "metadata": {},
   "outputs": [
    {
     "name": "stdout",
     "output_type": "stream",
     "text": [
      "[2, 8, 0, 8]\n"
     ]
    }
   ],
   "source": [
    "a = create_linked_list([5,7,4])\n",
    "b = create_linked_list([2,2,3,4])\n",
    "print_linked_list(P4(a,b),[])"
   ]
  },
  {
   "cell_type": "code",
   "execution_count": 52,
   "id": "b9855217",
   "metadata": {},
   "outputs": [
    {
     "name": "stdout",
     "output_type": "stream",
     "text": [
      "[5, 7, 4]\n"
     ]
    }
   ],
   "source": [
    "a = create_linked_list([5,7,4])\n",
    "print_linked_list(a, [])"
   ]
  },
  {
   "cell_type": "code",
   "execution_count": 56,
   "id": "d63930fc",
   "metadata": {},
   "outputs": [
    {
     "name": "stdout",
     "output_type": "stream",
     "text": [
      "[4, 4, 8, 7]\n"
     ]
    }
   ],
   "source": [
    "a = create_linked_list([4,2,5,3])\n",
    "b = create_linked_list([2,3,4])\n",
    "print_linked_list(P4_1(a,b),[])"
   ]
  },
  {
   "cell_type": "code",
   "execution_count": 57,
   "id": "084c6959",
   "metadata": {},
   "outputs": [
    {
     "name": "stdout",
     "output_type": "stream",
     "text": [
      "[2, 8, 0, 8]\n"
     ]
    }
   ],
   "source": [
    "a = create_linked_list([5,7,4])\n",
    "b = create_linked_list([2,2,3,4])\n",
    "print_linked_list(P4_1(a,b),[])"
   ]
  }
 ],
 "metadata": {
  "kernelspec": {
   "display_name": "Python 3",
   "language": "python",
   "name": "python3"
  },
  "language_info": {
   "codemirror_mode": {
    "name": "ipython",
    "version": 3
   },
   "file_extension": ".py",
   "mimetype": "text/x-python",
   "name": "python",
   "nbconvert_exporter": "python",
   "pygments_lexer": "ipython3",
   "version": "3.8.8"
  }
 },
 "nbformat": 4,
 "nbformat_minor": 5
}

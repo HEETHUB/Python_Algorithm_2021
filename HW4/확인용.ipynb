{
 "cells": [
  {
   "cell_type": "code",
   "execution_count": 6,
   "id": "1b4418d6",
   "metadata": {},
   "outputs": [],
   "source": [
    "%run P1.py"
   ]
  },
  {
   "cell_type": "code",
   "execution_count": 9,
   "id": "33d1125f",
   "metadata": {},
   "outputs": [],
   "source": [
    "%run P2.py"
   ]
  },
  {
   "cell_type": "code",
   "execution_count": 11,
   "id": "2e56dd82",
   "metadata": {},
   "outputs": [],
   "source": [
    "%run P3.py"
   ]
  },
  {
   "cell_type": "code",
   "execution_count": 13,
   "id": "12efb733",
   "metadata": {},
   "outputs": [],
   "source": [
    "%run P4.py"
   ]
  },
  {
   "cell_type": "code",
   "execution_count": 15,
   "id": "51c9321e",
   "metadata": {},
   "outputs": [],
   "source": [
    "%run P5.py"
   ]
  },
  {
   "cell_type": "code",
   "execution_count": 1,
   "id": "de44c0dd",
   "metadata": {},
   "outputs": [],
   "source": [
    "%run P6.py"
   ]
  },
  {
   "cell_type": "code",
   "execution_count": 3,
   "id": "3c8bd7fe",
   "metadata": {},
   "outputs": [],
   "source": [
    "sample_case = [\n",
    " [{0: 1, 6: 3}, {0: 2, 5: 2, 6: 2, 7: 1}],\n",
    " [{0: 1, 6: 3}, {0: -1, 5: 2, 6: 2, 7: 1}],\n",
    " [{0: 1, 6: 3}, {0: -1, 1: 1, 2: 2, 6: -3}],\n",
    " [{0: 1, 6: -3}, {0: -1, 6: 3}],\n",
    " [{0: 1, 10: 2, 15: 3, 20: 4}, {0: -1, 15: -3, 20: 5, 27: 10, 29: 200}],\n",
    " [{0: -1, 5: 3, 6: -4}, {0: 1, 5: -3, 6: 4}],\n",
    " [{1: 2, 10: 4, 15: 2, 20: 20}, {2: -2, 3: -4, 4: -2, 5: -21}],\n",
    " [{3: -1, 4: -5, 6: -7}, {6: 7, 10: 11, 20: 12312}],\n",
    " [{1: 123, 2: 3123, 3: 52, 4: 12}, {0: -123, 1: -123, 3: -123, 4: -12}],\n",
    " [{123: 1, 234: 2, 345: 3}, {123: 10, 213: -2, 345: 10, 12314: 123123}]\n",
    " ] "
   ]
  },
  {
   "cell_type": "code",
   "execution_count": 4,
   "id": "d427e155",
   "metadata": {},
   "outputs": [],
   "source": [
    "def P9(vector1: dict, vector2: dict) -> dict:\n",
    "    ### Write code here ###\n",
    "    result = 0\n",
    "    for key in vector2.keys():\n",
    "        if key in vector1:\n",
    "            result += vector1[key]*vector2[key]\n",
    "    ### End of your code ###      \n",
    "    return result"
   ]
  },
  {
   "cell_type": "code",
   "execution_count": 8,
   "id": "057331f0",
   "metadata": {},
   "outputs": [
    {
     "name": "stdout",
     "output_type": "stream",
     "text": [
      "8\n",
      "5\n",
      "-10\n",
      "-10\n",
      "10\n",
      "-26\n",
      "0\n",
      "-49\n",
      "-21669\n",
      "40\n"
     ]
    }
   ],
   "source": [
    "for sample in sample_case:\n",
    "    print(P9(sample[0],sample[1]))"
   ]
  }
 ],
 "metadata": {
  "kernelspec": {
   "display_name": "Python 3",
   "language": "python",
   "name": "python3"
  },
  "language_info": {
   "codemirror_mode": {
    "name": "ipython",
    "version": 3
   },
   "file_extension": ".py",
   "mimetype": "text/x-python",
   "name": "python",
   "nbconvert_exporter": "python",
   "pygments_lexer": "ipython3",
   "version": "3.8.8"
  }
 },
 "nbformat": 4,
 "nbformat_minor": 5
}

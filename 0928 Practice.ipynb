{
 "cells": [
  {
   "cell_type": "code",
   "execution_count": 23,
   "id": "ea631d09",
   "metadata": {},
   "outputs": [],
   "source": [
    "class Point:\n",
    "    def __init__(self, x, y):\n",
    "        self.x = x\n",
    "        self.y = y\n",
    "        \n",
    "class Line(Point):\n",
    "    def __init__(self, Point1, Point2):\n",
    "        self.x1 = Point1.x\n",
    "        self.x2 = Point2.x\n",
    "        self.y1 = Point1.y\n",
    "        self.y2 = Point2.y\n",
    "        \n",
    "    def slope(self):\n",
    "        xDiff = self.x1 - self.x2\n",
    "        yDiff = self.y1 - self.y2\n",
    "        result = (xDiff**2 + yDiff**2)**0.5\n",
    "        return result"
   ]
  },
  {
   "cell_type": "code",
   "execution_count": 24,
   "id": "9f707a96",
   "metadata": {},
   "outputs": [
    {
     "data": {
      "text/plain": [
       "2.23606797749979"
      ]
     },
     "execution_count": 24,
     "metadata": {},
     "output_type": "execute_result"
    }
   ],
   "source": [
    "line = Line(Point(1,1), Point(3,2))\n",
    "line.slope()"
   ]
  },
  {
   "cell_type": "code",
   "execution_count": 25,
   "id": "5aa97dc1",
   "metadata": {},
   "outputs": [],
   "source": [
    "class Point(): \n",
    "    def __init__(self, x: float, y: float)-> None:\n",
    "        self.x = x\n",
    "        self.y = y\n",
    "    \n",
    "class Line(Point):\n",
    "    def __init__(self, p1: Point, p2: Point)-> None:\n",
    "        self.p1 = p1\n",
    "        self.p2 = p2\n",
    "        \n",
    "    def slope(self)-> float:\n",
    "        return (self.p2.y - self.p1.y) / (self.p2.x - self.p1.x)\n",
    "    \n",
    "    def length(self)-> float:\n",
    "        return ((self.p1.x - self.p2.x)**2 + (self.p1.y - self.p2.y)**2)**0.5\n",
    "    "
   ]
  },
  {
   "cell_type": "code",
   "execution_count": 26,
   "id": "5501cae5",
   "metadata": {},
   "outputs": [
    {
     "data": {
      "text/plain": [
       "__main__.Line"
      ]
     },
     "execution_count": 26,
     "metadata": {},
     "output_type": "execute_result"
    }
   ],
   "source": [
    "line = Line(Point(1,1), Point(3,2))\n",
    "type(line)"
   ]
  },
  {
   "cell_type": "code",
   "execution_count": 28,
   "id": "757f5b1b",
   "metadata": {},
   "outputs": [
    {
     "name": "stdout",
     "output_type": "stream",
     "text": [
      "2.23606797749979\n",
      "0.5\n"
     ]
    }
   ],
   "source": [
    "print(line.length())\n",
    "print(line.slope())"
   ]
  }
 ],
 "metadata": {
  "kernelspec": {
   "display_name": "Python 3",
   "language": "python",
   "name": "python3"
  },
  "language_info": {
   "codemirror_mode": {
    "name": "ipython",
    "version": 3
   },
   "file_extension": ".py",
   "mimetype": "text/x-python",
   "name": "python",
   "nbconvert_exporter": "python",
   "pygments_lexer": "ipython3",
   "version": "3.8.8"
  }
 },
 "nbformat": 4,
 "nbformat_minor": 5
}

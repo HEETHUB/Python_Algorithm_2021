{
 "cells": [
  {
   "cell_type": "code",
   "execution_count": 1,
   "id": "2288e117",
   "metadata": {},
   "outputs": [],
   "source": [
    "def P1(game: list) -> int:        \n",
    "    ##### Write your Code Here #####\n",
    "    win = 0\n",
    "    for match in game:\n",
    "        if match[1] == 'S':\n",
    "            if 'R' not in match and 'P' in match:\n",
    "                win += 1\n",
    "        if match[1] == 'R':\n",
    "            if 'P' not in match and 'S' in match:\n",
    "                win += 1\n",
    "        if match[1] == 'P':\n",
    "            if 'S' not in match and 'R' in match:\n",
    "                win += 1\n",
    "    return win\n",
    "    ##### End of your code #####"
   ]
  },
  {
   "cell_type": "code",
   "execution_count": 6,
   "id": "7b83c0a2",
   "metadata": {},
   "outputs": [
    {
     "name": "stdout",
     "output_type": "stream",
     "text": [
      "1 2 3\n"
     ]
    }
   ],
   "source": [
    "print(P1([['S','R','S'], ['R','R','P'], ['S','P','R']]),\n",
    "      P1([['R', 'S', 'P'],['R', 'R', 'S'],['P', 'S', 'P']]),\n",
    "      P1([['S', 'P', 'R'],['P', 'P', 'P'],['R', 'P', 'R'],['R', 'R', 'S'],['S', 'R', 'R']]))"
   ]
  },
  {
   "cell_type": "code",
   "execution_count": 15,
   "id": "09b030d2",
   "metadata": {},
   "outputs": [],
   "source": [
    "def P2(n: int) -> bool:        \n",
    "    ##### Write your Code Here #####\n",
    "    for i in range(2, n+1):\n",
    "        if n % i == 0:\n",
    "            m = n // i\n",
    "            for j in range(2, m+1):\n",
    "                if m % j == 0:\n",
    "                    if m / j == 1:\n",
    "                        return True\n",
    "                    else:\n",
    "                        return False\n",
    "    return False\n",
    "    ##### End of your code #####"
   ]
  },
  {
   "cell_type": "code",
   "execution_count": 18,
   "id": "ae7f317a",
   "metadata": {},
   "outputs": [
    {
     "name": "stdout",
     "output_type": "stream",
     "text": [
      "True True False\n",
      "False\n"
     ]
    }
   ],
   "source": [
    "print(P2(6), P2(9), P2(12))\n",
    "print(P2(7))"
   ]
  },
  {
   "cell_type": "code",
   "execution_count": 19,
   "id": "427c3adf",
   "metadata": {},
   "outputs": [
    {
     "name": "stdout",
     "output_type": "stream",
     "text": [
      "32\n"
     ]
    },
    {
     "data": {
      "text/plain": [
       "[2]"
      ]
     },
     "execution_count": 19,
     "metadata": {},
     "output_type": "execute_result"
    }
   ],
   "source": [
    "x = int(input())\n",
    "\n",
    "def findPrimeFactor(x):\n",
    "    hash = [False, False] + [True] * (x-1)\n",
    "    primeFactor = []\n",
    "    for i in range(2, x+1):\n",
    "        if hash[i]:\n",
    "            for j in range(2*i, x+1, i):\n",
    "                hash[j] = False\n",
    "            if not x % i :\n",
    "                primeFactor.append(i)\n",
    "    return primeFactor\n",
    "\n",
    "findPrimeFactor(x)"
   ]
  },
  {
   "cell_type": "code",
   "execution_count": 23,
   "id": "208962f1",
   "metadata": {},
   "outputs": [
    {
     "name": "stdout",
     "output_type": "stream",
     "text": [
      "48\n",
      "57\n"
     ]
    }
   ],
   "source": [
    "print(ord('0'))\n",
    "print(ord('9'))\n"
   ]
  },
  {
   "cell_type": "code",
   "execution_count": 14,
   "id": "6c8fd51f",
   "metadata": {},
   "outputs": [],
   "source": [
    "def P3(s: str) -> int:\n",
    "    ### Modify code here ###\n",
    "    result = ''\n",
    "    numbers = {'zero' : '0', \n",
    "               'one' : '1', \n",
    "               'two' : '2',\n",
    "               'three' : '3', \n",
    "               'four' : '4', \n",
    "               'five' : '5', \n",
    "               'six' : '6', \n",
    "               'seven' : '7', \n",
    "               'eight' : '8', \n",
    "               'nine' : '9'}\n",
    "    i = 0\n",
    "    while i < len(s):\n",
    "        if ord(s[i]) >= 97:\n",
    "            j = i+1\n",
    "            while j <= len(s):\n",
    "                if j == len(s):\n",
    "                    result += numbers[s[i:]]\n",
    "                    break\n",
    "                elif s[i:j] in numbers:\n",
    "                    result += numbers[s[i:j]]\n",
    "                    i = j\n",
    "                    break\n",
    "                else :\n",
    "                    j += 1\n",
    "        else:\n",
    "            result += s[i]  \n",
    "            i += 1\n",
    "    return int(result)\n",
    "                    \n",
    "    ### End of your code ###"
   ]
  },
  {
   "cell_type": "code",
   "execution_count": 15,
   "id": "a8612daf",
   "metadata": {},
   "outputs": [
    {
     "data": {
      "text/plain": [
       "str"
      ]
     },
     "execution_count": 15,
     "metadata": {},
     "output_type": "execute_result"
    }
   ],
   "source": [
    "numbers = {'zero' : '0', \n",
    "               'one' : '1', \n",
    "               'two' : '2',\n",
    "               'three' : '3', \n",
    "               'four' : '4', \n",
    "               'five' : '5', \n",
    "               'six' : '6', \n",
    "               'seven' : '7', \n",
    "               'eight' : '8', \n",
    "               'nine' : '9'}\n",
    "re = ''\n",
    "a = 'one23four'\n",
    "re += numbers[a[0:3]]\n",
    "type(re)"
   ]
  },
  {
   "cell_type": "code",
   "execution_count": null,
   "id": "6d99ebf7",
   "metadata": {},
   "outputs": [],
   "source": [
    "P3('one23four')"
   ]
  },
  {
   "cell_type": "code",
   "execution_count": null,
   "id": "f446ea9c",
   "metadata": {},
   "outputs": [],
   "source": [
    "P3(\"9eight7six5\")"
   ]
  },
  {
   "cell_type": "code",
   "execution_count": null,
   "id": "9ecdade9",
   "metadata": {},
   "outputs": [],
   "source": [
    "P3(\"nineeight76five\")"
   ]
  },
  {
   "cell_type": "code",
   "execution_count": 12,
   "id": "5c74dd6a",
   "metadata": {},
   "outputs": [],
   "source": [
    "def P4(info: list) -> str:        \n",
    "    ##### Write your Code Here #####\n",
    "    result = ''\n",
    "    if info[0] == 'MALE':\n",
    "        if info[1] >= 2000:\n",
    "            gender = '3'\n",
    "        elif info[1] >= 1900:\n",
    "            gender = '1'\n",
    "        else:\n",
    "            gender = '9'\n",
    "    else:\n",
    "        if info[1] >= 2000:\n",
    "            gender = '4'\n",
    "        elif info[1] >= 1900:\n",
    "            gender = '2'\n",
    "        else:\n",
    "            gender = '0'\n",
    "            \n",
    "    for i in range(1, 4):\n",
    "        if info[i] < 10:\n",
    "            info[i] = '0' + str(info[i])\n",
    "            result += info[i]\n",
    "        else:\n",
    "            info[i] = str(info[i])[-2:]\n",
    "            result += info[i]\n",
    "    result += gender\n",
    "    return result\n",
    "    \n",
    "    ##### End of your code #####"
   ]
  },
  {
   "cell_type": "code",
   "execution_count": 13,
   "id": "f6f0fadb",
   "metadata": {},
   "outputs": [
    {
     "data": {
      "text/plain": [
       "'5602141'"
      ]
     },
     "execution_count": 13,
     "metadata": {},
     "output_type": "execute_result"
    }
   ],
   "source": [
    "P4(['MALE', 1956, 2, 14])"
   ]
  },
  {
   "cell_type": "code",
   "execution_count": 14,
   "id": "da6b227d",
   "metadata": {},
   "outputs": [
    {
     "data": {
      "text/plain": [
       "'9610301'"
      ]
     },
     "execution_count": 14,
     "metadata": {},
     "output_type": "execute_result"
    }
   ],
   "source": [
    "P4(['MALE', 1996, 10, 30])"
   ]
  },
  {
   "cell_type": "code",
   "execution_count": 15,
   "id": "11c7057d",
   "metadata": {},
   "outputs": [
    {
     "data": {
      "text/plain": [
       "'0001024'"
      ]
     },
     "execution_count": 15,
     "metadata": {},
     "output_type": "execute_result"
    }
   ],
   "source": [
    "P4(['FEMALE', 2000, 1, 2])"
   ]
  },
  {
   "cell_type": "code",
   "execution_count": 16,
   "id": "fad3b776",
   "metadata": {},
   "outputs": [
    {
     "data": {
      "text/plain": [
       "'9903280'"
      ]
     },
     "execution_count": 16,
     "metadata": {},
     "output_type": "execute_result"
    }
   ],
   "source": [
    "P4(['FEMALE', 1899, 3, 28])"
   ]
  },
  {
   "cell_type": "code",
   "execution_count": 1,
   "id": "191ceaba",
   "metadata": {},
   "outputs": [],
   "source": [
    "def P3(s: str) -> int:\n",
    "    ### Modify code here ###\n",
    "    result = ''\n",
    "    numbers = {'zero' : '0', \n",
    "               'one' : '1', \n",
    "               'two' : '2',\n",
    "               'three' : '3', \n",
    "               'four' : '4', \n",
    "               'five' : '5', \n",
    "               'six' : '6', \n",
    "               'seven' : '7', \n",
    "               'eight' : '8', \n",
    "               'nine' : '9'}\n",
    "    i = 0\n",
    "    while i < len(s):\n",
    "        if ord(s[i]) >= 97:\n",
    "            j = i + 1\n",
    "            while j <= len(s):\n",
    "                if j == len(s):\n",
    "                    result += numbers[s[i:]]\n",
    "                    break\n",
    "                elif s[i:j] in numbers:\n",
    "                    result += numbers[s[i:j]]\n",
    "                    break\n",
    "                else:\n",
    "                    j += 1\n",
    "            i = j\n",
    "        else:\n",
    "            result += s[i]  \n",
    "            i += 1\n",
    "    return int(result)\n",
    "                    \n",
    "    ### End of your code ###"
   ]
  },
  {
   "cell_type": "code",
   "execution_count": 8,
   "id": "27a9162e",
   "metadata": {},
   "outputs": [
    {
     "data": {
      "text/plain": [
       "1234"
      ]
     },
     "execution_count": 8,
     "metadata": {},
     "output_type": "execute_result"
    }
   ],
   "source": [
    "P3(\"one23four\")"
   ]
  },
  {
   "cell_type": "code",
   "execution_count": 10,
   "id": "38011ac4",
   "metadata": {},
   "outputs": [
    {
     "data": {
      "text/plain": [
       "98765"
      ]
     },
     "execution_count": 10,
     "metadata": {},
     "output_type": "execute_result"
    }
   ],
   "source": [
    "P3(\"9eight7six5\")"
   ]
  },
  {
   "cell_type": "code",
   "execution_count": 13,
   "id": "a3fc78ba",
   "metadata": {},
   "outputs": [
    {
     "data": {
      "text/plain": [
       "int"
      ]
     },
     "execution_count": 13,
     "metadata": {},
     "output_type": "execute_result"
    }
   ],
   "source": [
    "type(P3(\"nineeight76five\"))"
   ]
  },
  {
   "cell_type": "code",
   "execution_count": 12,
   "id": "a4183b4e",
   "metadata": {},
   "outputs": [
    {
     "data": {
      "text/plain": [
       "456"
      ]
     },
     "execution_count": 12,
     "metadata": {},
     "output_type": "execute_result"
    }
   ],
   "source": [
    "P3(\"456\")"
   ]
  },
  {
   "cell_type": "code",
   "execution_count": 3,
   "id": "67773113",
   "metadata": {},
   "outputs": [
    {
     "data": {
      "text/plain": [
       "10432"
      ]
     },
     "execution_count": 3,
     "metadata": {},
     "output_type": "execute_result"
    }
   ],
   "source": [
    "P3('one04threetwo')"
   ]
  }
 ],
 "metadata": {
  "kernelspec": {
   "display_name": "Python 3",
   "language": "python",
   "name": "python3"
  },
  "language_info": {
   "codemirror_mode": {
    "name": "ipython",
    "version": 3
   },
   "file_extension": ".py",
   "mimetype": "text/x-python",
   "name": "python",
   "nbconvert_exporter": "python",
   "pygments_lexer": "ipython3",
   "version": "3.8.8"
  }
 },
 "nbformat": 4,
 "nbformat_minor": 5
}

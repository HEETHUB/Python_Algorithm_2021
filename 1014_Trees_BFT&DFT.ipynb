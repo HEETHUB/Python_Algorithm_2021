{
 "cells": [
  {
   "cell_type": "code",
   "execution_count": 2,
   "id": "07bcb421",
   "metadata": {},
   "outputs": [],
   "source": [
    "#from collections import deque\n",
    "\n",
    "class TreeNode():\n",
    "    def __init__(self, x:int, k:int) -> None :\n",
    "        self.val = x\n",
    "        self.arity = k\n",
    "        self.child = [None]*k\n",
    "\n",
    "class Tree():\n",
    "    def __init__(self, root: TreeNode) :\n",
    "        self.root = root\n",
    "    \n",
    "    def visit(self, node: TreeNode) :\n",
    "        print(node.val)\n",
    "        \n",
    "    def BFT(self) :\n",
    "        if self.root == None:\n",
    "            return\n",
    "        q = [self.root] # deque([self.root])\n",
    "        while q :\n",
    "            curNode = q.pop(0) #q.popleft\n",
    "            self.visit(curNode)\n",
    "            for childNode in curNode.child:\n",
    "                if childNode:\n",
    "                    q.append(childNode)\n",
    "       \n",
    "    def __DFT_preorderHelp(self, curNode: TreeNode):\n",
    "        if curNode == None:\n",
    "            return\n",
    "        self.visit(curNode)\n",
    "        for childNode in curNode.child:\n",
    "            self.__DFT_preorderHelp(childNode)\n",
    "            \n",
    "    def DFT_preorder(self):\n",
    "        self.__DFT_preorderHelp(self.root)\n",
    "        \n",
    "    def __DFT_inorderHelp(self, curNode: TreeNode) :\n",
    "        if curNode == None :\n",
    "            return\n",
    "        for i in range(len(curNode.child)):\n",
    "            if i == 1 :\n",
    "                self.visit(curNode)\n",
    "            delf.__DFT_inorderHelp(curNode.child[i])\n",
    "            \n",
    "    def DFT_inorder(self):\n",
    "        self.__DFT_inorderHelp(self.root)\n",
    "        \n",
    "    def __DFT_postorderHelp(self, curNode: TreeNode):\n",
    "        if curNode == None:\n",
    "            return\n",
    "        for i in range(len(curNode.child)):\n",
    "            self.__DFT_postorderHelp(curNode.child[i])\n",
    "        self.visit(curNode)\n",
    "        \n",
    "    def DFT_postorder(self):\n",
    "        self.__DFT_postorderHelp(self.root)"
   ]
  },
  {
   "cell_type": "code",
   "execution_count": 5,
   "id": "9b95c52d",
   "metadata": {},
   "outputs": [],
   "source": [
    "tree4 = TreeNode(4, 10) \n",
    "tree4.child[0] = TreeNode(2,10)\n",
    "tree4.child[1] = TreeNode(6,10)\n",
    "tree2 = tree4.child[0]\n",
    "tree2.child[0] = TreeNode(1, 10)\n",
    "tree2.child[1] = TreeNode(3, 10)\n",
    "tree6 = tree4.child[1]\n",
    "tree6.child[0] = TreeNode(5, 10)\n",
    "tree6.child[1] = TreeNode(7, 10)"
   ]
  },
  {
   "cell_type": "code",
   "execution_count": 9,
   "id": "2da77448",
   "metadata": {},
   "outputs": [
    {
     "name": "stdout",
     "output_type": "stream",
     "text": [
      "4\n",
      "2\n",
      "6\n",
      "1\n",
      "3\n",
      "5\n",
      "7\n"
     ]
    }
   ],
   "source": [
    "myTree = Tree(tree4)\n",
    "myTree.BFT()"
   ]
  },
  {
   "cell_type": "code",
   "execution_count": 11,
   "id": "625b8c4a",
   "metadata": {},
   "outputs": [
    {
     "name": "stdout",
     "output_type": "stream",
     "text": [
      "4\n",
      "2\n",
      "1\n",
      "3\n",
      "6\n",
      "5\n",
      "7\n"
     ]
    }
   ],
   "source": [
    "myTree.DFT_preorder()"
   ]
  },
  {
   "cell_type": "code",
   "execution_count": 12,
   "id": "9b4c65cd",
   "metadata": {},
   "outputs": [
    {
     "name": "stdout",
     "output_type": "stream",
     "text": [
      "1\n",
      "3\n",
      "2\n",
      "5\n",
      "7\n",
      "6\n",
      "4\n"
     ]
    }
   ],
   "source": [
    "myTree.DFT_postorder()"
   ]
  }
 ],
 "metadata": {
  "kernelspec": {
   "display_name": "Python 3",
   "language": "python",
   "name": "python3"
  },
  "language_info": {
   "codemirror_mode": {
    "name": "ipython",
    "version": 3
   },
   "file_extension": ".py",
   "mimetype": "text/x-python",
   "name": "python",
   "nbconvert_exporter": "python",
   "pygments_lexer": "ipython3",
   "version": "3.8.8"
  }
 },
 "nbformat": 4,
 "nbformat_minor": 5
}

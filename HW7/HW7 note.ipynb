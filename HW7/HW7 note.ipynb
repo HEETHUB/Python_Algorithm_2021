{
 "cells": [
  {
   "cell_type": "code",
   "execution_count": 3,
   "id": "498ea263",
   "metadata": {},
   "outputs": [],
   "source": [
    "def P1(num_list: list) -> int:\n",
    "\n",
    "    ### Write code here ###\n",
    "    L = num_list[:]\n",
    "    swap = 0\n",
    "    i = 1\n",
    "    while True:\n",
    "        \n",
    "        while i < len(L):\n",
    "            if L[i] < L[i-1]:\n",
    "                L[i], L[i-1] = L[i-1], L[i]\n",
    "                swap += 1\n",
    "                i += 1\n",
    "            else:\n",
    "                i += 1\n",
    "    ### End of your code ###  \n",
    "    print(swap, L)"
   ]
  },
  {
   "cell_type": "code",
   "execution_count": 4,
   "id": "a2e27532",
   "metadata": {},
   "outputs": [
    {
     "name": "stdout",
     "output_type": "stream",
     "text": [
      "3 [1, 4, 2, 5, 8]\n"
     ]
    }
   ],
   "source": [
    "P1([5,1,4,2,8])"
   ]
  },
  {
   "cell_type": "code",
   "execution_count": null,
   "id": "24e39353",
   "metadata": {},
   "outputs": [],
   "source": []
  }
 ],
 "metadata": {
  "kernelspec": {
   "display_name": "Python 3",
   "language": "python",
   "name": "python3"
  },
  "language_info": {
   "codemirror_mode": {
    "name": "ipython",
    "version": 3
   },
   "file_extension": ".py",
   "mimetype": "text/x-python",
   "name": "python",
   "nbconvert_exporter": "python",
   "pygments_lexer": "ipython3",
   "version": "3.8.8"
  }
 },
 "nbformat": 4,
 "nbformat_minor": 5
}

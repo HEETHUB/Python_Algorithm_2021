{
 "cells": [
  {
   "cell_type": "code",
   "execution_count": 2,
   "id": "51ac9535",
   "metadata": {},
   "outputs": [],
   "source": [
    "class Hash():\n",
    "    def __init__(self) -> None:\n",
    "        self.array = [None]*4294967296\n",
    "        \n",
    "    def add(self, x) -> None:\n",
    "        i = hash_value(x)\n",
    "        if self.array[i] == None:\n",
    "            self.array[i] = SLList()\n",
    "        self.array[i].addFirst(x)\n",
    "        \n",
    "    def hashfunction(self, s : str) :\n",
    "        ans = 0\n",
    "        for ch in s :\n",
    "            ans += 37*ans + ord(ch)\n",
    "        return ans % len(self.array)\n",
    "        "
   ]
  },
  {
   "cell_type": "code",
   "execution_count": 26,
   "id": "cf074def",
   "metadata": {},
   "outputs": [],
   "source": [
    "def majorityElement(nums: list) -> int:\n",
    "    Hash = {}\n",
    "    for num in nums:\n",
    "        numStr = str(num)\n",
    "        if numStr in Hash:\n",
    "            Hash[numStr] += 1\n",
    "        else:\n",
    "            Hash[numStr] = 1\n",
    "    result = None\n",
    "    for key, value in Hash.items():\n",
    "        if not result:\n",
    "            result = str(key)\n",
    "        elif value > Hash[result]:\n",
    "            result = str(key)\n",
    "    return int(result)"
   ]
  },
  {
   "cell_type": "code",
   "execution_count": 31,
   "id": "d9f4b2f4",
   "metadata": {},
   "outputs": [],
   "source": [
    "a = [1,1,1,1,1,2,4,3,4,4,4,2,2,5,6,6,6,7,7,7,7,7,7,7,7]"
   ]
  },
  {
   "cell_type": "code",
   "execution_count": 32,
   "id": "b8ff9bf1",
   "metadata": {},
   "outputs": [
    {
     "ename": "KeyError",
     "evalue": "1",
     "output_type": "error",
     "traceback": [
      "\u001b[0;31m---------------------------------------------------------------------------\u001b[0m",
      "\u001b[0;31mKeyError\u001b[0m                                  Traceback (most recent call last)",
      "\u001b[0;32m<ipython-input-32-cab76610b767>\u001b[0m in \u001b[0;36m<module>\u001b[0;34m\u001b[0m\n\u001b[0;32m----> 1\u001b[0;31m \u001b[0mmajorityElement\u001b[0m\u001b[0;34m(\u001b[0m\u001b[0ma\u001b[0m\u001b[0;34m)\u001b[0m\u001b[0;34m\u001b[0m\u001b[0;34m\u001b[0m\u001b[0m\n\u001b[0m",
      "\u001b[0;32m<ipython-input-30-97b4f65c2a3a>\u001b[0m in \u001b[0;36mmajorityElement\u001b[0;34m(nums)\u001b[0m\n\u001b[1;32m      5\u001b[0m     \u001b[0;32mfor\u001b[0m \u001b[0mnum\u001b[0m \u001b[0;32min\u001b[0m \u001b[0mnums\u001b[0m\u001b[0;34m:\u001b[0m\u001b[0;34m\u001b[0m\u001b[0;34m\u001b[0m\u001b[0m\n\u001b[1;32m      6\u001b[0m         \u001b[0;32mif\u001b[0m \u001b[0mnum\u001b[0m \u001b[0;32min\u001b[0m \u001b[0mnums\u001b[0m\u001b[0;34m:\u001b[0m\u001b[0;34m\u001b[0m\u001b[0;34m\u001b[0m\u001b[0m\n\u001b[0;32m----> 7\u001b[0;31m             \u001b[0mans\u001b[0m\u001b[0;34m[\u001b[0m\u001b[0mnum\u001b[0m\u001b[0;34m]\u001b[0m \u001b[0;34m+=\u001b[0m \u001b[0;36m1\u001b[0m\u001b[0;34m\u001b[0m\u001b[0;34m\u001b[0m\u001b[0m\n\u001b[0m\u001b[1;32m      8\u001b[0m         \u001b[0;32melse\u001b[0m\u001b[0;34m:\u001b[0m\u001b[0;34m\u001b[0m\u001b[0;34m\u001b[0m\u001b[0m\n\u001b[1;32m      9\u001b[0m             \u001b[0mans\u001b[0m\u001b[0;34m[\u001b[0m\u001b[0mnum\u001b[0m\u001b[0;34m]\u001b[0m \u001b[0;34m=\u001b[0m \u001b[0;36m1\u001b[0m\u001b[0;34m\u001b[0m\u001b[0;34m\u001b[0m\u001b[0m\n",
      "\u001b[0;31mKeyError\u001b[0m: 1"
     ]
    }
   ],
   "source": [
    "majorityElement(a)"
   ]
  },
  {
   "cell_type": "code",
   "execution_count": 30,
   "id": "2c6599ec",
   "metadata": {},
   "outputs": [],
   "source": [
    "def majorityElement(nums: list) -> int:\n",
    "    ans = {}\n",
    "    n = len(nums)\n",
    "    \n",
    "    for num in nums:\n",
    "        if num in nums:\n",
    "            ans[num] += 1\n",
    "        else:\n",
    "            ans[num] = 1\n",
    "            \n",
    "        if ans[num] > n // 2:\n",
    "            return num"
   ]
  },
  {
   "cell_type": "code",
   "execution_count": null,
   "id": "1b8f8323",
   "metadata": {},
   "outputs": [],
   "source": []
  }
 ],
 "metadata": {
  "kernelspec": {
   "display_name": "Python 3",
   "language": "python",
   "name": "python3"
  },
  "language_info": {
   "codemirror_mode": {
    "name": "ipython",
    "version": 3
   },
   "file_extension": ".py",
   "mimetype": "text/x-python",
   "name": "python",
   "nbconvert_exporter": "python",
   "pygments_lexer": "ipython3",
   "version": "3.8.8"
  }
 },
 "nbformat": 4,
 "nbformat_minor": 5
}

{
 "cells": [
  {
   "cell_type": "code",
   "execution_count": 38,
   "id": "1401b496",
   "metadata": {},
   "outputs": [],
   "source": [
    "class Member:\n",
    "    def __init__(self, name: str, address: str, email: str, DoB: str, affiliation: str)-> None:\n",
    "        self.name = name\n",
    "        self.address = address\n",
    "        self.email = email\n",
    "        self.DoB = DoB\n",
    "        self.affiliation = affiliation\n",
    "        self.infoList = [self.name, self.address, self.email, self.DoB, self.affiliation]\n",
    "        \n",
    "    def printInfo(self):\n",
    "        print(self.infoList)\n",
    "        \n",
    "    def switch_affiliation(self, new_affiliation: str):\n",
    "        print('Member', self.name, 'changes affiliation from', self.affiliation, 'to', new_affiliation)\n",
    "        self.affiliation = new_affiliation\n",
    "        self.infoList[4] = self.affiliation\n",
    "          \n",
    "class Student(Member):\n",
    "    def __init__(self, name: str, address: str, email: str, DoB: str, affiliation: str, student_num: str)-> None:\n",
    "        # Reuse parent's init function\n",
    "        super().__init__(name, address, email, DoB, affiliation) # super -> parent class로 들어감\n",
    "        self.student_num = student_num\n",
    "        self.advisor = ''\n",
    "        self.courses_taking = []\n",
    "        self.courses_taken = []\n",
    "        self.GPA = 0\n",
    "        self.infoList += [self.student_num, self.advisor, self.courses_taken, self.courses_taking, self.GPA]\n",
    "        \n",
    "    def switch_affiliation(self, new_affiliation: str):\n",
    "        print('Student', self.name, 'changes affiliation from', self.affiliation, 'to', new_affiliation)\n",
    "        self.affiliation = new_affiliation   \n",
    "        self.infoList[4] = self.affiliation\n",
    "        \n",
    "    # printInfo method is inherited    \n",
    "    # switch_affiliation is inherited but [polymorphism] works here\n",
    "    \n",
    "class Faculty(Member):\n",
    "    def __init__(self, name: str, address: str, email: str, DoB: str, affiliation: str, faculty_num: str)-> None:\n",
    "        # Reuse parent's init function\n",
    "        super().__init__(name, address, email, DoB, affiliation) # super -> parent class로 들어감\n",
    "        self.faculty_num = faculty_num\n",
    "        self.advisees = ''\n",
    "        self.courses_teaching = []\n",
    "        self.infoList += [self.faculty_num, self.advisees, self.courses_teaching]        \n",
    "    \n",
    "    def switch_affiliation(self, new_affiliation: str):\n",
    "        print('Faculty', self.name, 'changes affiliation from', self.affiliation, 'to', new_affiliation)\n",
    "        self.affiliation = new_affiliation\n",
    "        self.infoList[4] = self.affiliation\n",
    "        \n",
    "    # printInfo method is inherited\n",
    "    # switch_affiliation is inherited but [polymorphism] works here"
   ]
  },
  {
   "cell_type": "code",
   "execution_count": 39,
   "id": "a7da2215",
   "metadata": {},
   "outputs": [],
   "source": [
    "a = Member('Heetae Cho', 'Seoul', 'pank0415@naver.com', '0410', 'Econ')\n",
    "b = Student('Siyoon Park', 'Seoul', 'seenew1881@naver.com', '0108', 'Chinese', '2014-19536')\n",
    "c = Faculty('Heetae Cho', 'Seoul', 'pank0415@naver.com', '0410', 'Econ', 'A00000')"
   ]
  },
  {
   "cell_type": "code",
   "execution_count": 40,
   "id": "4e96c017",
   "metadata": {},
   "outputs": [
    {
     "name": "stdout",
     "output_type": "stream",
     "text": [
      "<class '__main__.Member'> <class '__main__.Student'> <class '__main__.Faculty'>\n",
      "True True True\n"
     ]
    }
   ],
   "source": [
    "print(type(a), type(b), type(c))\n",
    "print(type(a) == Member, type(b) == Student, type(c) == Faculty)"
   ]
  },
  {
   "cell_type": "code",
   "execution_count": 41,
   "id": "08ec59b8",
   "metadata": {},
   "outputs": [
    {
     "name": "stdout",
     "output_type": "stream",
     "text": [
      "['Heetae Cho', 'Seoul', 'pank0415@naver.com', '0410', 'Econ']\n",
      "['Siyoon Park', 'Seoul', 'seenew1881@naver.com', '0108', 'Chinese', '2014-19536', '', [], [], 0]\n",
      "['Heetae Cho', 'Seoul', 'pank0415@naver.com', '0410', 'Econ', 'A00000', '', []]\n"
     ]
    }
   ],
   "source": [
    "a.printInfo()\n",
    "b.printInfo()\n",
    "c.printInfo()"
   ]
  },
  {
   "cell_type": "code",
   "execution_count": 42,
   "id": "3a1e95ef",
   "metadata": {},
   "outputs": [
    {
     "name": "stdout",
     "output_type": "stream",
     "text": [
      "Member Heetae Cho changes affiliation from Econ to Korean\n"
     ]
    }
   ],
   "source": [
    "a.switch_affiliation('Korean')"
   ]
  },
  {
   "cell_type": "code",
   "execution_count": 43,
   "id": "e164b8a8",
   "metadata": {},
   "outputs": [
    {
     "name": "stdout",
     "output_type": "stream",
     "text": [
      "['Heetae Cho', 'Seoul', 'pank0415@naver.com', '0410', 'Korean']\n"
     ]
    }
   ],
   "source": [
    "a.printInfo()"
   ]
  },
  {
   "cell_type": "code",
   "execution_count": 44,
   "id": "dc703ccc",
   "metadata": {},
   "outputs": [
    {
     "name": "stdout",
     "output_type": "stream",
     "text": [
      "Student Siyoon Park changes affiliation from Chinese to English\n"
     ]
    }
   ],
   "source": [
    "b.switch_affiliation('English')"
   ]
  },
  {
   "cell_type": "code",
   "execution_count": 45,
   "id": "1bc72291",
   "metadata": {},
   "outputs": [
    {
     "name": "stdout",
     "output_type": "stream",
     "text": [
      "['Siyoon Park', 'Seoul', 'seenew1881@naver.com', '0108', 'English', '2014-19536', '', [], [], 0]\n"
     ]
    }
   ],
   "source": [
    "b.printInfo()"
   ]
  },
  {
   "cell_type": "code",
   "execution_count": 46,
   "id": "46c03221",
   "metadata": {},
   "outputs": [
    {
     "name": "stdout",
     "output_type": "stream",
     "text": [
      "Faculty Heetae Cho changes affiliation from Econ to Education\n"
     ]
    }
   ],
   "source": [
    "c.switch_affiliation('Education')"
   ]
  },
  {
   "cell_type": "code",
   "execution_count": 47,
   "id": "8352bf0c",
   "metadata": {},
   "outputs": [
    {
     "name": "stdout",
     "output_type": "stream",
     "text": [
      "['Heetae Cho', 'Seoul', 'pank0415@naver.com', '0410', 'Education', 'A00000', '', []]\n"
     ]
    }
   ],
   "source": [
    "c.printInfo()"
   ]
  },
  {
   "cell_type": "code",
   "execution_count": null,
   "id": "8855ffe0",
   "metadata": {},
   "outputs": [],
   "source": []
  }
 ],
 "metadata": {
  "kernelspec": {
   "display_name": "Python 3",
   "language": "python",
   "name": "python3"
  },
  "language_info": {
   "codemirror_mode": {
    "name": "ipython",
    "version": 3
   },
   "file_extension": ".py",
   "mimetype": "text/x-python",
   "name": "python",
   "nbconvert_exporter": "python",
   "pygments_lexer": "ipython3",
   "version": "3.8.8"
  }
 },
 "nbformat": 4,
 "nbformat_minor": 5
}

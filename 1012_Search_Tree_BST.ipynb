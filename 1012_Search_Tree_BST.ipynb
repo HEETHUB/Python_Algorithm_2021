{
 "cells": [
  {
   "cell_type": "code",
   "execution_count": 1,
   "id": "33cee581",
   "metadata": {},
   "outputs": [],
   "source": [
    "class TreeNode():\n",
    "    def __init__(self, x: int):\n",
    "        self.val = x\n",
    "        self.left = None\n",
    "        self.right = None"
   ]
  },
  {
   "cell_type": "code",
   "execution_count": 2,
   "id": "c7612eb9",
   "metadata": {},
   "outputs": [],
   "source": [
    "class BST():\n",
    "    def __init__(self, root: TreeNode):\n",
    "        self.root = root\n",
    "        \n",
    "    def __searchHelp(self, curNode: TreeNode, x) -> TreeNode:\n",
    "        if not curNode:\n",
    "            return None\n",
    "        if x == curNode.val:\n",
    "            return curNode\n",
    "        elif x < curNode.val:\n",
    "            return self.__searchHelp(curNode.left, x)\n",
    "        else:\n",
    "            return self.__searchHelp(curNode.right, x)\n",
    "    \n",
    "    def search(self, x: int) -> TreeNode:\n",
    "        return self.__searchHelp(self.root, x)\n",
    "    \n",
    "    def __insertHelp(self, curNode: TreeNode, x: int) -> TreeNode:\n",
    "        if not curNode:\n",
    "            return TreeNode(x)\n",
    "        if x < curNode.val:\n",
    "            curNode.left = self.__insertHelp(curNode.left, x)\n",
    "        elif x > curNode.val:\n",
    "            curNode.right = self.__insertHelp(curNode.right, x)\n",
    "        return curNode\n",
    "    \n",
    "    def insert(self, x: int) -> None:\n",
    "        self.root = self.__insertHelp(self.root, x)\n",
    "        \n",
    "    def findlargest(self, curNode: TreeNode) -> TreeNode:\n",
    "        if not curNode.right:\n",
    "            return curNode.val\n",
    "        else:\n",
    "            self.findLargest(curNode.right)\n",
    "    \n",
    "    def __deleteHelp(self, curNode: TreeNode, x: int) -> TreeNode:\n",
    "        if not curNode:\n",
    "            return curNode\n",
    "        if x == curNode.val:\n",
    "            if not curNode.left:\n",
    "                return curNode.right\n",
    "            elif not curNode.right:\n",
    "                return curNode.left\n",
    "            else:\n",
    "                leftmost = self.findlargest(curNode.left)\n",
    "                curNode.left = self.__deleteHelp(curNode.left, leftmost)\n",
    "                curNode.val = leftmost\n",
    "        elif x < curNode.val :\n",
    "            curNode.left = self.__deleteHelp(curNode.left, x)\n",
    "        else :\n",
    "            curNode.right = self.__deleteHelp(curNode.right, x)\n",
    "        return curNode\n",
    "        \n",
    "    def delete(self, x: int) -> None:\n",
    "        self.root = self.__deleteHelp(self.root, x)\n",
    "    "
   ]
  },
  {
   "cell_type": "code",
   "execution_count": 3,
   "id": "98329b68",
   "metadata": {},
   "outputs": [],
   "source": [
    "tree1 = TreeNode(1)\n",
    "tree2 = TreeNode(2)\n",
    "# tree3 = TreeNode(3)\n",
    "tree4 = TreeNode(4)\n",
    "tree6 = TreeNode(6)\n",
    "tree7 = TreeNode(7)\n",
    "tree8 = TreeNode(8)\n",
    "tree10 = TreeNode(10)\n",
    "tree12 = TreeNode(12)\n",
    "\n",
    "tree4.left = tree2\n",
    "tree2.left = tree1\n",
    "# tree2.right = tree3\n",
    "tree4.right = tree10\n",
    "tree10.left = tree8\n",
    "tree10.right = tree12\n",
    "tree8.left = tree6\n",
    "tree6.right = tree7\n"
   ]
  },
  {
   "cell_type": "code",
   "execution_count": 4,
   "id": "0317c5cd",
   "metadata": {},
   "outputs": [],
   "source": [
    "mytree = BST(tree4)"
   ]
  },
  {
   "cell_type": "code",
   "execution_count": 6,
   "id": "7d970985",
   "metadata": {},
   "outputs": [],
   "source": [
    "mytree.delete(6)"
   ]
  },
  {
   "cell_type": "code",
   "execution_count": 10,
   "id": "a1d3cd68",
   "metadata": {},
   "outputs": [],
   "source": [
    "mytree.insert(3)"
   ]
  },
  {
   "cell_type": "code",
   "execution_count": null,
   "id": "dd47253c",
   "metadata": {},
   "outputs": [],
   "source": []
  }
 ],
 "metadata": {
  "kernelspec": {
   "display_name": "Python 3",
   "language": "python",
   "name": "python3"
  },
  "language_info": {
   "codemirror_mode": {
    "name": "ipython",
    "version": 3
   },
   "file_extension": ".py",
   "mimetype": "text/x-python",
   "name": "python",
   "nbconvert_exporter": "python",
   "pygments_lexer": "ipython3",
   "version": "3.8.8"
  }
 },
 "nbformat": 4,
 "nbformat_minor": 5
}

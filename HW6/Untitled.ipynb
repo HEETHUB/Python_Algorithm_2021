{
 "cells": [
  {
   "cell_type": "code",
   "execution_count": 9,
   "id": "2913dbc8",
   "metadata": {},
   "outputs": [
    {
     "name": "stdout",
     "output_type": "stream",
     "text": [
      "49\n"
     ]
    }
   ],
   "source": [
    "%run P4.py"
   ]
  },
  {
   "cell_type": "code",
   "execution_count": 6,
   "id": "48743766",
   "metadata": {},
   "outputs": [],
   "source": [
    "class Calculator:\n",
    "    def __init__(self):\n",
    "        self.value = 0\n",
    "        self.newvalue = 0\n",
    "        self.operation = None\n",
    "        \n",
    "        \n",
    "    def digit(self, num):\n",
    "        if self.operation:\n",
    "            self.newvalue = int(str(self.newvalue) + str(num))\n",
    "        else:\n",
    "            self.value = int(str(self.value) + str(num))\n",
    "    def plus(self):\n",
    "        self.equal()\n",
    "        self.operation = 'plus'\n",
    "    \n",
    "    def minus(self):\n",
    "        self.equal()\n",
    "        self.operation = 'minus'\n",
    "        \n",
    "    def clear(self):\n",
    "        self.value = 0\n",
    "        self.newvalue = 0\n",
    "        self.operation = None\n",
    "        \n",
    "    def equal(self):\n",
    "        if self.operation == 'plus':\n",
    "            result = self.value + self.newvalue\n",
    "            self.value = result\n",
    "            self.newvalue = 0\n",
    "            return result\n",
    "        else:\n",
    "            result = self.value - self.newvalue\n",
    "            self.value = result\n",
    "            self.newvalue = 0\n",
    "            return result\n"
   ]
  },
  {
   "cell_type": "code",
   "execution_count": 7,
   "id": "99d47ad3",
   "metadata": {},
   "outputs": [
    {
     "data": {
      "text/plain": [
       "49"
      ]
     },
     "execution_count": 7,
     "metadata": {},
     "output_type": "execute_result"
    }
   ],
   "source": [
    "c = Calculator() \n",
    "c.clear() \n",
    "c.digit(9) \n",
    "c.plus() \n",
    "c.digit(1) \n",
    "c.digit(2) \n",
    "c.digit(5) \n",
    "c.minus() \n",
    "c.minus() \n",
    "c.digit(3) \n",
    "c.plus() \n",
    "c.clear() \n",
    "c.digit(5) \n",
    "c.digit(2) \n",
    "c.minus() \n",
    "c.digit(5) \n",
    "c.minus() \n",
    "c.plus() \n",
    "c.digit(2) \n",
    "c.equal()"
   ]
  },
  {
   "cell_type": "code",
   "execution_count": null,
   "id": "78d8e0e3",
   "metadata": {},
   "outputs": [],
   "source": []
  }
 ],
 "metadata": {
  "kernelspec": {
   "display_name": "Python 3",
   "language": "python",
   "name": "python3"
  },
  "language_info": {
   "codemirror_mode": {
    "name": "ipython",
    "version": 3
   },
   "file_extension": ".py",
   "mimetype": "text/x-python",
   "name": "python",
   "nbconvert_exporter": "python",
   "pygments_lexer": "ipython3",
   "version": "3.8.8"
  }
 },
 "nbformat": 4,
 "nbformat_minor": 5
}

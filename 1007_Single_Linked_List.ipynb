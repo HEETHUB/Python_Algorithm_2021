{
 "cells": [
  {
   "cell_type": "code",
   "execution_count": 1,
   "id": "3def043c",
   "metadata": {},
   "outputs": [],
   "source": [
    "class LinkedNode():\n",
    "    def __init__(self, x):\n",
    "        self.val = x\n",
    "        self.next = None"
   ]
  },
  {
   "cell_type": "code",
   "execution_count": 2,
   "id": "6beb574f",
   "metadata": {},
   "outputs": [],
   "source": [
    "a = LinkedNode(5)\n",
    "b = LinkedNode(7)"
   ]
  },
  {
   "cell_type": "code",
   "execution_count": 3,
   "id": "ddf411e8",
   "metadata": {},
   "outputs": [],
   "source": [
    "a.next = b"
   ]
  },
  {
   "cell_type": "code",
   "execution_count": 5,
   "id": "82063691",
   "metadata": {},
   "outputs": [
    {
     "data": {
      "text/plain": [
       "7"
      ]
     },
     "execution_count": 5,
     "metadata": {},
     "output_type": "execute_result"
    }
   ],
   "source": [
    "b.val"
   ]
  },
  {
   "cell_type": "code",
   "execution_count": 6,
   "id": "813ab80b",
   "metadata": {},
   "outputs": [
    {
     "data": {
      "text/plain": [
       "7"
      ]
     },
     "execution_count": 6,
     "metadata": {},
     "output_type": "execute_result"
    }
   ],
   "source": [
    "a.next.val"
   ]
  },
  {
   "cell_type": "code",
   "execution_count": null,
   "id": "c78391e6",
   "metadata": {},
   "outputs": [],
   "source": [
    "class SLL():\n",
    "    def __init__(self) -> None:\n",
    "        # self.first = None\n",
    "        self.sentinel = LinkedNode(0)\n",
    "        self.size = 0\n",
    "    \n",
    "    def addFirst(self, x:int) -> None :\n",
    "        newFirst = LinkedNode(x)\n",
    "        # newFirst.next = self.first\n",
    "        newFirst.next = self.sentinel.next\n",
    "        self.sentinel.next = newFirst\n",
    "        # self.fist = newFirst\n",
    "        self.size += 1\n",
    "        \n",
    "    def getFirst(self)-> int :\n",
    "        if self.first :\n",
    "            return self.sentinel.next.val\n",
    "            # return self.first.val\n",
    "        else :\n",
    "            return None\n",
    "        \n",
    "    def getFirst(self) -> int:\n",
    "#         curNode = self.first\n",
    "#         size = 0\n",
    "#         while curNode != None: # Navigate the whole list\n",
    "#             size += 1\n",
    "#             curNode = curNode.next\n",
    "#         return size\n",
    "        return self.size\n",
    "    \n",
    "    def append(self, x: int) -> None:\n",
    "        self.size += 1\n",
    "        # curNode = self.first\n",
    "        curNode = self.sentinel\n",
    "        while curNode.next != None:\n",
    "            curNode = curNode.next\n",
    "        curNode.next = LinkedNode(x)\n",
    "    \n",
    "    \n",
    "    "
   ]
  }
 ],
 "metadata": {
  "kernelspec": {
   "display_name": "Python 3",
   "language": "python",
   "name": "python3"
  },
  "language_info": {
   "codemirror_mode": {
    "name": "ipython",
    "version": 3
   },
   "file_extension": ".py",
   "mimetype": "text/x-python",
   "name": "python",
   "nbconvert_exporter": "python",
   "pygments_lexer": "ipython3",
   "version": "3.8.8"
  }
 },
 "nbformat": 4,
 "nbformat_minor": 5
}

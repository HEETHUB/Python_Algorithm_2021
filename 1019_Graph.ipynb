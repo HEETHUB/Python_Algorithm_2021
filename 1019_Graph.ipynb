{
 "cells": [
  {
   "cell_type": "code",
   "execution_count": 15,
   "id": "8d8e0587",
   "metadata": {},
   "outputs": [],
   "source": [
    "from collections import deque\n",
    "\n",
    "class undi_graph():\n",
    "    def __init__(self, V: list, E:list) -> None:\n",
    "        self.V = V[:] # 외부에 가져온 녀석을 내부에 가져오기 위해 List를 그대로 복사하는 것 copy를 생성\n",
    "        # List -> copy vs elias(?) - V가 바뀌었을 때 self.V가 영향을 받느냐 받지 않느냐\n",
    "        self.neighbor = {} # V의 형태가 무엇이든간에 key로 만들어주기 때문에 dic 사용\n",
    "        for v in V:\n",
    "            self.neighbor[v] = []\n",
    "        for (v, w) in E:\n",
    "            self.neighbor[v].append(w) # List였다면 neighbor[숫자]만. vertice->key, neighbor->value\n",
    "            self.neighbor[w].append(v)\n",
    "    \n",
    "    def __DFTHelp(self, visited: list, v: int) -> None:\n",
    "        if not visited[v]:\n",
    "            visited[v] = True # preorder\n",
    "            #print(v)\n",
    "            for w in self.neighbor[v]:\n",
    "                self.__DFTHelp(visited, w)\n",
    "            print(v) #-> postorder 어떻게 프린트될까?!!\n",
    "\n",
    "    def DFT(self) -> None: # Tree에서는 그냥 self.root를 넣기만 하면 됐는데 여기서는 root도 없고 unconnected도 있음\n",
    "        if self.V:\n",
    "            visited = {}\n",
    "            for v in self.V:\n",
    "                visited[v] = False # cycle을 이겨내기 위해(?)\n",
    "            for v in self.V:\n",
    "                self.__DFTHelp(visited, v)\n",
    "        # DFT -> when you want to know if two vertices are connected\n",
    "        # when you want to know if all vertices in a graph are connected\n",
    "        # when you want to know how many disjoint islands are in a graph -> self.__DFTHelp할 때 count\n",
    "        # when you want to know if a graph has a cycle\n",
    "    \n",
    "    def BFT(self) -> None:\n",
    "        if self.V:\n",
    "            visited = {}\n",
    "            for v in self.V:\n",
    "                visited[v] = False\n",
    "            q = deque([])\n",
    "            for v in self.V:\n",
    "                q.append(v)\n",
    "                while q:\n",
    "                    v = q.popleft()\n",
    "                    if not visited[v]:\n",
    "                        visited[v] = True\n",
    "                        print(v)\n",
    "                        for w in self.neighbor[v]:\n",
    "                            q.append(w)\n",
    "    \n",
    "    \n",
    "    "
   ]
  },
  {
   "cell_type": "code",
   "execution_count": 16,
   "id": "774a1407",
   "metadata": {},
   "outputs": [
    {
     "name": "stdout",
     "output_type": "stream",
     "text": [
      "8\n",
      "7\n",
      "5\n",
      "9\n",
      "6\n",
      "4\n",
      "1\n",
      "0\n",
      "3\n",
      "2\n"
     ]
    }
   ],
   "source": [
    "V = [0,1,2,3,4,5,6,7,8,9]\n",
    "E = [(0, 1), (1, 4), (1,5),(4,6), (5,6),(5,7),(6,9),(7,8),(2,3)]\n",
    "myGraph = undi_graph(V,E)\n",
    "myGraph.DFT()"
   ]
  },
  {
   "cell_type": "code",
   "execution_count": 17,
   "id": "993533ae",
   "metadata": {},
   "outputs": [
    {
     "name": "stdout",
     "output_type": "stream",
     "text": [
      "0\n",
      "1\n",
      "4\n",
      "5\n",
      "6\n",
      "7\n",
      "9\n",
      "8\n",
      "2\n",
      "3\n"
     ]
    }
   ],
   "source": [
    "myGraph.BFT()"
   ]
  },
  {
   "cell_type": "code",
   "execution_count": null,
   "id": "8b275e34",
   "metadata": {},
   "outputs": [],
   "source": []
  }
 ],
 "metadata": {
  "kernelspec": {
   "display_name": "Python 3",
   "language": "python",
   "name": "python3"
  },
  "language_info": {
   "codemirror_mode": {
    "name": "ipython",
    "version": 3
   },
   "file_extension": ".py",
   "mimetype": "text/x-python",
   "name": "python",
   "nbconvert_exporter": "python",
   "pygments_lexer": "ipython3",
   "version": "3.8.8"
  }
 },
 "nbformat": 4,
 "nbformat_minor": 5
}

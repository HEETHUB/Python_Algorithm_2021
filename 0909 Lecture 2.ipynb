{
 "cells": [
  {
   "cell_type": "code",
   "execution_count": 51,
   "id": "dba8c0ff",
   "metadata": {},
   "outputs": [
    {
     "data": {
      "text/plain": [
       "3"
      ]
     },
     "execution_count": 51,
     "metadata": {},
     "output_type": "execute_result"
    }
   ],
   "source": [
    "f = min\n",
    "f = max\n",
    "g, h = min, max\n",
    "max = g\n",
    "max(f(2, g(h(1,5),3)),4) # min(max(2, min(max(1,5),3)),4)"
   ]
  },
  {
   "cell_type": "code",
   "execution_count": 6,
   "id": "3383f09a",
   "metadata": {},
   "outputs": [
    {
     "data": {
      "text/plain": [
       "19"
      ]
     },
     "execution_count": 6,
     "metadata": {},
     "output_type": "execute_result"
    }
   ],
   "source": [
    "19"
   ]
  },
  {
   "cell_type": "code",
   "execution_count": 7,
   "id": "d103ff5c",
   "metadata": {},
   "outputs": [
    {
     "data": {
      "text/plain": [
       "'19'"
      ]
     },
     "execution_count": 7,
     "metadata": {},
     "output_type": "execute_result"
    }
   ],
   "source": [
    "'19'"
   ]
  },
  {
   "cell_type": "code",
   "execution_count": 8,
   "id": "cd5fadd8",
   "metadata": {},
   "outputs": [
    {
     "data": {
      "text/plain": [
       "2"
      ]
     },
     "execution_count": 8,
     "metadata": {},
     "output_type": "execute_result"
    }
   ],
   "source": [
    "len('19')"
   ]
  },
  {
   "cell_type": "code",
   "execution_count": 10,
   "id": "0eca2a71",
   "metadata": {},
   "outputs": [
    {
     "data": {
      "text/plain": [
       "38"
      ]
     },
     "execution_count": 10,
     "metadata": {},
     "output_type": "execute_result"
    }
   ],
   "source": [
    "19 + 19"
   ]
  },
  {
   "cell_type": "code",
   "execution_count": 12,
   "id": "376ca788",
   "metadata": {},
   "outputs": [
    {
     "data": {
      "text/plain": [
       "'1919'"
      ]
     },
     "execution_count": 12,
     "metadata": {},
     "output_type": "execute_result"
    }
   ],
   "source": [
    "'19' + '19' "
   ]
  },
  {
   "cell_type": "code",
   "execution_count": 14,
   "id": "b6fe7069",
   "metadata": {},
   "outputs": [
    {
     "data": {
      "text/plain": [
       "'(--)(__)(--)(__)(--)(__)(--)(__)(--)(__)(--)(__)(--)(__)(--)(__)(--)(__)(--)(__)'"
      ]
     },
     "execution_count": 14,
     "metadata": {},
     "output_type": "execute_result"
    }
   ],
   "source": [
    "'(--)(__)' * 10"
   ]
  },
  {
   "cell_type": "code",
   "execution_count": 15,
   "id": "44f9349b",
   "metadata": {},
   "outputs": [
    {
     "data": {
      "text/plain": [
       "5"
      ]
     },
     "execution_count": 15,
     "metadata": {},
     "output_type": "execute_result"
    }
   ],
   "source": [
    "5"
   ]
  },
  {
   "cell_type": "code",
   "execution_count": 16,
   "id": "9dcc5fde",
   "metadata": {},
   "outputs": [
    {
     "data": {
      "text/plain": [
       "'5'"
      ]
     },
     "execution_count": 16,
     "metadata": {},
     "output_type": "execute_result"
    }
   ],
   "source": [
    "str(5)"
   ]
  },
  {
   "cell_type": "code",
   "execution_count": 17,
   "id": "a7252a0d",
   "metadata": {},
   "outputs": [],
   "source": [
    "my_name = 'Heetae Cho'"
   ]
  },
  {
   "cell_type": "code",
   "execution_count": 18,
   "id": "a94202e7",
   "metadata": {},
   "outputs": [
    {
     "data": {
      "text/plain": [
       "'Heetae Cho'"
      ]
     },
     "execution_count": 18,
     "metadata": {},
     "output_type": "execute_result"
    }
   ],
   "source": [
    "my_name"
   ]
  },
  {
   "cell_type": "code",
   "execution_count": 19,
   "id": "37d72b37",
   "metadata": {},
   "outputs": [
    {
     "data": {
      "text/plain": [
       "'Heetae Cho is sleepy'"
      ]
     },
     "execution_count": 19,
     "metadata": {},
     "output_type": "execute_result"
    }
   ],
   "source": [
    "my_name + ' is sleepy'"
   ]
  },
  {
   "cell_type": "code",
   "execution_count": 20,
   "id": "fd595a15",
   "metadata": {},
   "outputs": [
    {
     "data": {
      "text/plain": [
       "\"I'm studying\""
      ]
     },
     "execution_count": 20,
     "metadata": {},
     "output_type": "execute_result"
    }
   ],
   "source": [
    "\"I'm studying\""
   ]
  },
  {
   "cell_type": "code",
   "execution_count": 33,
   "id": "0d5014dd",
   "metadata": {},
   "outputs": [
    {
     "name": "stdout",
     "output_type": "stream",
     "text": [
      "I said \"I'm studying\"\n"
     ]
    }
   ],
   "source": [
    "print('I said \\\"I\\'m studying\\\"')"
   ]
  },
  {
   "cell_type": "code",
   "execution_count": 36,
   "id": "35b6e6e9",
   "metadata": {},
   "outputs": [
    {
     "data": {
      "text/plain": [
       "True"
      ]
     },
     "execution_count": 36,
     "metadata": {},
     "output_type": "execute_result"
    }
   ],
   "source": [
    "a = True\n",
    "b = False \n",
    "a and not b"
   ]
  },
  {
   "cell_type": "code",
   "execution_count": 37,
   "id": "773fd942",
   "metadata": {},
   "outputs": [],
   "source": [
    "def is_positive(x: float) -> bool :\n",
    "    return x > 0"
   ]
  },
  {
   "cell_type": "code",
   "execution_count": 39,
   "id": "d70b2085",
   "metadata": {},
   "outputs": [
    {
     "data": {
      "text/plain": [
       "True"
      ]
     },
     "execution_count": 39,
     "metadata": {},
     "output_type": "execute_result"
    }
   ],
   "source": [
    "is_positive(3)"
   ]
  },
  {
   "cell_type": "code",
   "execution_count": 1,
   "id": "108e69d3",
   "metadata": {},
   "outputs": [
    {
     "data": {
      "text/plain": [
       "3.141592653589793"
      ]
     },
     "execution_count": 1,
     "metadata": {},
     "output_type": "execute_result"
    }
   ],
   "source": [
    "from math import *\n",
    "pi"
   ]
  },
  {
   "cell_type": "code",
   "execution_count": 7,
   "id": "df21b080",
   "metadata": {},
   "outputs": [
    {
     "name": "stdout",
     "output_type": "stream",
     "text": [
      "Densely populated\n"
     ]
    }
   ],
   "source": [
    "population = 1000\n",
    "land_area = 8\n",
    "if population / land_area > 100 :\n",
    "    print('Densely populated')"
   ]
  },
  {
   "cell_type": "code",
   "execution_count": 9,
   "id": "e32e3462",
   "metadata": {},
   "outputs": [
    {
     "data": {
      "text/plain": [
       "-3"
      ]
     },
     "execution_count": 9,
     "metadata": {},
     "output_type": "execute_result"
    }
   ],
   "source": [
    "import math\n",
    "math.floor(-2.8)"
   ]
  },
  {
   "cell_type": "code",
   "execution_count": 18,
   "id": "39e06386",
   "metadata": {},
   "outputs": [
    {
     "data": {
      "text/plain": [
       "15.0"
      ]
     },
     "execution_count": 18,
     "metadata": {},
     "output_type": "execute_result"
    }
   ],
   "source": [
    "def average(num1 : float, num2 : float) -> float:\n",
    "    return (num1+num2)/2\n",
    "\n",
    "average(10, 20)"
   ]
  },
  {
   "cell_type": "code",
   "execution_count": 22,
   "id": "fd4d033a",
   "metadata": {},
   "outputs": [
    {
     "data": {
      "text/plain": [
       "'MONDAY'"
      ]
     },
     "execution_count": 22,
     "metadata": {},
     "output_type": "execute_result"
    }
   ],
   "source": [
    "'MoNDaY'.upper()"
   ]
  }
 ],
 "metadata": {
  "kernelspec": {
   "display_name": "Python 3",
   "language": "python",
   "name": "python3"
  },
  "language_info": {
   "codemirror_mode": {
    "name": "ipython",
    "version": 3
   },
   "file_extension": ".py",
   "mimetype": "text/x-python",
   "name": "python",
   "nbconvert_exporter": "python",
   "pygments_lexer": "ipython3",
   "version": "3.8.8"
  }
 },
 "nbformat": 4,
 "nbformat_minor": 5
}

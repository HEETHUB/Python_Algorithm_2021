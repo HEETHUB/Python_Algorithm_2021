{
 "cells": [
  {
   "cell_type": "code",
   "execution_count": 39,
   "id": "332a7292",
   "metadata": {},
   "outputs": [],
   "source": [
    "class LinkedNode():\n",
    "    def __init__(self, x:int) -> None :\n",
    "        self.val = x\n",
    "        self.next = None\n",
    "        self.previous = None\n",
    "        \n",
    "class myStack() :\n",
    "    def __init__(self) :\n",
    "        self.size = 0\n",
    "        self.sentinel = LinkedNote(0)\n",
    "\n",
    "    def push(self, x:int) -> None : #Add a LinkedNode that has val=x to myStack\n",
    "        newLast = LinkedNote(x)\n",
    "        newLast.previous = self.sentinel.previous\n",
    "        self.sentinel.previous = newLast\n",
    "        self.size += 1 # push할 때마다 size 1씩 증가\n",
    "        \n",
    "    def pop(self) : # Remove the most recently added LinkedNode from myStack\n",
    "        if not self.isEmpty():\n",
    "            popVal = self.sentinel.previous \n",
    "            popVal.previous = self.sentinel.previous\n",
    "            popVal = None\n",
    "            self.size -= 1 # pop할 때마다 size 1씩 감소\n",
    "    \n",
    "    def top(self) : # Return val of the most recently added LinkedNode\n",
    "        if not self.isEmpty():\n",
    "            return self.sentinel.previous\n",
    "        else :\n",
    "            return None\n",
    "    \n",
    "    def getSize(self) -> int : # Return the number of LinkedNodes in myStack\n",
    "        return self.size\n",
    "    \n",
    "    def isEmpty(self) -> bool : # Return True if myStack is empty, or False otherwise\n",
    "        return self.size == 0\n",
    "        "
   ]
  },
  {
   "cell_type": "code",
   "execution_count": 42,
   "id": "2be5f6c8",
   "metadata": {},
   "outputs": [
    {
     "data": {
      "text/plain": [
       "True"
      ]
     },
     "execution_count": 42,
     "metadata": {},
     "output_type": "execute_result"
    }
   ],
   "source": [
    "mystack = myStack()\n",
    "mystack.push(3)\n",
    "mystack.push(5)\n",
    "mystack.getSize()\n",
    "mystack.pop()\n",
    "mystack.pop()\n",
    "mystack.getSize()\n",
    "mystack.isEmpty()"
   ]
  }
 ],
 "metadata": {
  "kernelspec": {
   "display_name": "Python 3",
   "language": "python",
   "name": "python3"
  },
  "language_info": {
   "codemirror_mode": {
    "name": "ipython",
    "version": 3
   },
   "file_extension": ".py",
   "mimetype": "text/x-python",
   "name": "python",
   "nbconvert_exporter": "python",
   "pygments_lexer": "ipython3",
   "version": "3.8.8"
  }
 },
 "nbformat": 4,
 "nbformat_minor": 5
}

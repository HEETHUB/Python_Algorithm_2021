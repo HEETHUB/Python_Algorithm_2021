{
 "cells": [
  {
   "cell_type": "code",
   "execution_count": 9,
   "id": "b11b2ccb",
   "metadata": {},
   "outputs": [
    {
     "data": {
      "text/plain": [
       "(108, 3)"
      ]
     },
     "execution_count": 9,
     "metadata": {},
     "output_type": "execute_result"
    }
   ],
   "source": [
    "class Hash():\n",
    "    def __init__(self) -> None:\n",
    "        self.array = [0]*11243\n",
    "        \n",
    "    def hashfunction(self, s : str) :\n",
    "        ans = 0\n",
    "        for ch in s :\n",
    "            ans += 37*ans + ord(ch)\n",
    "        return ans % len(self.array)\n",
    "        \n",
    "    def add(self, s) :\n",
    "        for ch in s:\n",
    "            if self.array[self.hashfunction(ch)] :\n",
    "                self.array[self.hashfunction(ch)] += 1\n",
    "            if not self.array[self.hashfunction(ch)] :\n",
    "                self.array[self.hashfunction(ch)] = 1\n",
    "    \n",
    "    def show(self) :\n",
    "        for idx, value in enumerate(self.array):\n",
    "            if value :\n",
    "                return idx, value\n",
    "    \n",
    "    def count(self, s) :\n",
    "        return self.array[self.hashfunction(s)]\n",
    "    \n",
    "def P2(s:str) -> int :\n",
    "    hash = Hash()\n",
    "    hash.add(s)\n",
    "    for i in range(0, len(s)) :\n",
    "        if hash.count(s[i]) == 1:\n",
    "            return i\n",
    "    \n",
    "hash = Hash()\n",
    "hash.add('lll')\n",
    "hash.show()"
   ]
  }
 ],
 "metadata": {
  "kernelspec": {
   "display_name": "Python 3",
   "language": "python",
   "name": "python3"
  },
  "language_info": {
   "codemirror_mode": {
    "name": "ipython",
    "version": 3
   },
   "file_extension": ".py",
   "mimetype": "text/x-python",
   "name": "python",
   "nbconvert_exporter": "python",
   "pygments_lexer": "ipython3",
   "version": "3.8.8"
  }
 },
 "nbformat": 4,
 "nbformat_minor": 5
}

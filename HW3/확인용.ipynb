{
 "cells": [
  {
   "cell_type": "code",
   "execution_count": 10,
   "id": "5a00dbc2",
   "metadata": {},
   "outputs": [],
   "source": [
    "%run P1.py"
   ]
  },
  {
   "cell_type": "code",
   "execution_count": 12,
   "id": "ebe3e3b9",
   "metadata": {},
   "outputs": [],
   "source": [
    "%run P2.py"
   ]
  },
  {
   "cell_type": "code",
   "execution_count": 14,
   "id": "0e146f43",
   "metadata": {},
   "outputs": [],
   "source": [
    "%run P3.py"
   ]
  },
  {
   "cell_type": "code",
   "execution_count": 16,
   "id": "b6973966",
   "metadata": {},
   "outputs": [],
   "source": [
    "%run P4.py"
   ]
  },
  {
   "cell_type": "code",
   "execution_count": 18,
   "id": "a3ad6caa",
   "metadata": {},
   "outputs": [],
   "source": [
    "%run P5.py"
   ]
  },
  {
   "cell_type": "code",
   "execution_count": 21,
   "id": "295fc21f",
   "metadata": {},
   "outputs": [],
   "source": [
    "%run P6.py"
   ]
  },
  {
   "cell_type": "code",
   "execution_count": 24,
   "id": "03253e39",
   "metadata": {},
   "outputs": [],
   "source": [
    "%run P7.py"
   ]
  },
  {
   "cell_type": "code",
   "execution_count": 32,
   "id": "f67ae7bd",
   "metadata": {},
   "outputs": [],
   "source": [
    "%run P8.py"
   ]
  },
  {
   "cell_type": "code",
   "execution_count": 33,
   "id": "246db89e",
   "metadata": {},
   "outputs": [],
   "source": [
    "%run P9.py"
   ]
  },
  {
   "cell_type": "code",
   "execution_count": 34,
   "id": "c1335414",
   "metadata": {},
   "outputs": [
    {
     "name": "stdout",
     "output_type": "stream",
     "text": [
      "['ANN', 'any']\n",
      "[]\n"
     ]
    }
   ],
   "source": [
    "%run P10.py"
   ]
  }
 ],
 "metadata": {
  "kernelspec": {
   "display_name": "Python 3",
   "language": "python",
   "name": "python3"
  },
  "language_info": {
   "codemirror_mode": {
    "name": "ipython",
    "version": 3
   },
   "file_extension": ".py",
   "mimetype": "text/x-python",
   "name": "python",
   "nbconvert_exporter": "python",
   "pygments_lexer": "ipython3",
   "version": "3.8.8"
  }
 },
 "nbformat": 4,
 "nbformat_minor": 5
}

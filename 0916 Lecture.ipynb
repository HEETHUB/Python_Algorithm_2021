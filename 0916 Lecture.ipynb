{
 "cells": [
  {
   "cell_type": "markdown",
   "id": "6291fb54",
   "metadata": {},
   "source": [
    "## Set"
   ]
  },
  {
   "cell_type": "code",
   "execution_count": 1,
   "id": "e2484d74",
   "metadata": {},
   "outputs": [],
   "source": [
    "vowels = {'a','e','i','o','u','a','u','i','e'}"
   ]
  },
  {
   "cell_type": "code",
   "execution_count": 4,
   "id": "549b1690",
   "metadata": {},
   "outputs": [
    {
     "data": {
      "text/plain": [
       "{'a', 'e', 'i', 'o', 'u'}"
      ]
     },
     "execution_count": 4,
     "metadata": {},
     "output_type": "execute_result"
    }
   ],
   "source": [
    "vowels # 중복 무시, 순서 없음"
   ]
  },
  {
   "cell_type": "code",
   "execution_count": 5,
   "id": "6ec06b51",
   "metadata": {},
   "outputs": [
    {
     "data": {
      "text/plain": [
       "True"
      ]
     },
     "execution_count": 5,
     "metadata": {},
     "output_type": "execute_result"
    }
   ],
   "source": [
    "{'a','e','i','o','u','a','u','i','e'} == {'a','e','i','o','u'}"
   ]
  },
  {
   "cell_type": "code",
   "execution_count": 7,
   "id": "eddadf9a",
   "metadata": {},
   "outputs": [],
   "source": [
    "# empty set 만들 때\n",
    "a = set()\n",
    "# a = {} 아님 (dic)"
   ]
  },
  {
   "cell_type": "code",
   "execution_count": 8,
   "id": "e5437dae",
   "metadata": {},
   "outputs": [
    {
     "data": {
      "text/plain": [
       "{1, 2, 3, 4, 5}"
      ]
     },
     "execution_count": 8,
     "metadata": {},
     "output_type": "execute_result"
    }
   ],
   "source": [
    "set([2,3,5,4,1,2,3,3,4,5,2,3,2,3,2,4])"
   ]
  },
  {
   "cell_type": "code",
   "execution_count": 13,
   "id": "91343d8d",
   "metadata": {},
   "outputs": [
    {
     "name": "stdout",
     "output_type": "stream",
     "text": [
      "jaehyuk\n",
      "yeha\n",
      "suun\n",
      "yesong\n",
      "inhoe\n",
      "nayeon\n"
     ]
    }
   ],
   "source": [
    "students = set(['inhoe','yesong','jaehyuk','yeha','suun','nayeon'])\n",
    "for student in students:\n",
    "    print(student)\n",
    "\n",
    "# 어떤 순서로 돌 지는 모름"
   ]
  },
  {
   "cell_type": "code",
   "execution_count": 22,
   "id": "59009bca",
   "metadata": {},
   "outputs": [],
   "source": [
    "digits = set([0,1,2,3,4,5])\n",
    "odds = set([1,3,5,7,9])"
   ]
  },
  {
   "cell_type": "code",
   "execution_count": 23,
   "id": "5a78565d",
   "metadata": {},
   "outputs": [
    {
     "name": "stdout",
     "output_type": "stream",
     "text": [
      "{0, 1, 2, 3, 4, 5}\n",
      "{0, 1, 2, 3, 4, 5, 6}\n",
      "{0, 1, 3, 4, 5, 6}\n"
     ]
    }
   ],
   "source": [
    "print(digits)\n",
    "digits.add(6)\n",
    "print(digits)\n",
    "digits.remove(2)\n",
    "print(digits)"
   ]
  },
  {
   "cell_type": "code",
   "execution_count": 24,
   "id": "f7abfe15",
   "metadata": {},
   "outputs": [],
   "source": [
    "# 'In' operator -> much much faster than list\n",
    "S = {'1'}"
   ]
  },
  {
   "cell_type": "code",
   "execution_count": 25,
   "id": "1691bac6",
   "metadata": {},
   "outputs": [
    {
     "data": {
      "text/plain": [
       "{'1'}"
      ]
     },
     "execution_count": 25,
     "metadata": {},
     "output_type": "execute_result"
    }
   ],
   "source": [
    "S"
   ]
  },
  {
   "cell_type": "code",
   "execution_count": 28,
   "id": "1a2c2933",
   "metadata": {},
   "outputs": [
    {
     "ename": "TypeError",
     "evalue": "unhashable type: 'list'",
     "output_type": "error",
     "traceback": [
      "\u001b[0;31m---------------------------------------------------------------------------\u001b[0m",
      "\u001b[0;31mTypeError\u001b[0m                                 Traceback (most recent call last)",
      "\u001b[0;32m<ipython-input-28-4aade7c1a1f8>\u001b[0m in \u001b[0;36m<module>\u001b[0;34m\u001b[0m\n\u001b[0;32m----> 1\u001b[0;31m \u001b[0mS\u001b[0m\u001b[0;34m.\u001b[0m\u001b[0madd\u001b[0m\u001b[0;34m(\u001b[0m\u001b[0;34m[\u001b[0m\u001b[0;36m1\u001b[0m\u001b[0;34m,\u001b[0m\u001b[0;36m2\u001b[0m\u001b[0;34m,\u001b[0m\u001b[0;36m3\u001b[0m\u001b[0;34m]\u001b[0m\u001b[0;34m)\u001b[0m\u001b[0;34m\u001b[0m\u001b[0;34m\u001b[0m\u001b[0m\n\u001b[0m",
      "\u001b[0;31mTypeError\u001b[0m: unhashable type: 'list'"
     ]
    }
   ],
   "source": [
    "S.add([1,2,3])"
   ]
  },
  {
   "cell_type": "code",
   "execution_count": 30,
   "id": "6c10a6f6",
   "metadata": {},
   "outputs": [
    {
     "data": {
      "text/plain": [
       "8"
      ]
     },
     "execution_count": 30,
     "metadata": {},
     "output_type": "execute_result"
    }
   ],
   "source": [
    "(8)"
   ]
  },
  {
   "cell_type": "code",
   "execution_count": 32,
   "id": "85198f55",
   "metadata": {},
   "outputs": [
    {
     "data": {
      "text/plain": [
       "(8,)"
      ]
     },
     "execution_count": 32,
     "metadata": {},
     "output_type": "execute_result"
    }
   ],
   "source": [
    "(8,) # tuple이라고 선언하기 위해 하나의 원소의 경우 끝에 , 추가"
   ]
  },
  {
   "cell_type": "code",
   "execution_count": 33,
   "id": "75d3e207",
   "metadata": {},
   "outputs": [
    {
     "data": {
      "text/plain": [
       "(8, 5, 3)"
      ]
     },
     "execution_count": 33,
     "metadata": {},
     "output_type": "execute_result"
    }
   ],
   "source": [
    "(8,5,3)"
   ]
  },
  {
   "cell_type": "code",
   "execution_count": 34,
   "id": "43d16ada",
   "metadata": {},
   "outputs": [
    {
     "name": "stdout",
     "output_type": "stream",
     "text": [
      "1\n",
      "2\n",
      "3\n",
      "4\n"
     ]
    }
   ],
   "source": [
    "nums = (1,2,3,4)\n",
    "for num in nums:\n",
    "    print(num)"
   ]
  },
  {
   "cell_type": "code",
   "execution_count": 35,
   "id": "89856d4d",
   "metadata": {},
   "outputs": [
    {
     "ename": "TypeError",
     "evalue": "'tuple' object does not support item assignment",
     "output_type": "error",
     "traceback": [
      "\u001b[0;31m---------------------------------------------------------------------------\u001b[0m",
      "\u001b[0;31mTypeError\u001b[0m                                 Traceback (most recent call last)",
      "\u001b[0;32m<ipython-input-35-331102578463>\u001b[0m in \u001b[0;36m<module>\u001b[0;34m\u001b[0m\n\u001b[1;32m      1\u001b[0m \u001b[0mfamily\u001b[0m \u001b[0;34m=\u001b[0m \u001b[0;34m(\u001b[0m\u001b[0;34m'dad'\u001b[0m\u001b[0;34m,\u001b[0m\u001b[0;34m'mom'\u001b[0m\u001b[0;34m,\u001b[0m\u001b[0;34m'me'\u001b[0m\u001b[0;34m,\u001b[0m\u001b[0;34m'brother'\u001b[0m\u001b[0;34m)\u001b[0m\u001b[0;34m\u001b[0m\u001b[0;34m\u001b[0m\u001b[0m\n\u001b[0;32m----> 2\u001b[0;31m \u001b[0mfamily\u001b[0m\u001b[0;34m[\u001b[0m\u001b[0;36m0\u001b[0m\u001b[0;34m]\u001b[0m \u001b[0;34m=\u001b[0m \u001b[0;34m'grand father'\u001b[0m\u001b[0;34m\u001b[0m\u001b[0;34m\u001b[0m\u001b[0m\n\u001b[0m",
      "\u001b[0;31mTypeError\u001b[0m: 'tuple' object does not support item assignment"
     ]
    }
   ],
   "source": [
    "family = ('dad','mom','me','brother')\n",
    "family[0] = 'grand father'\n",
    "# tuple은 수정 불가"
   ]
  },
  {
   "cell_type": "code",
   "execution_count": 36,
   "id": "87b8db82",
   "metadata": {},
   "outputs": [
    {
     "name": "stdout",
     "output_type": "stream",
     "text": [
      "(['dad', 60], ['mom', 58], ['me', 27], ['brother', 24])\n",
      "(['dad', 61], ['mom', 58], ['me', 27], ['brother', 24])\n"
     ]
    }
   ],
   "source": [
    "family = (['dad',60], ['mom',58],['me',27],['brother',24])\n",
    "print(family)\n",
    "family[0][1] = 61\n",
    "print(family)\n",
    "# tuple 안의 list는 조작 가능"
   ]
  },
  {
   "cell_type": "code",
   "execution_count": 37,
   "id": "26d15352",
   "metadata": {},
   "outputs": [],
   "source": [
    "dict_grades = {}"
   ]
  },
  {
   "cell_type": "code",
   "execution_count": 38,
   "id": "3527661d",
   "metadata": {},
   "outputs": [
    {
     "data": {
      "text/plain": [
       "{}"
      ]
     },
     "execution_count": 38,
     "metadata": {},
     "output_type": "execute_result"
    }
   ],
   "source": [
    "dict_grades"
   ]
  },
  {
   "cell_type": "code",
   "execution_count": 40,
   "id": "fa4aea3e",
   "metadata": {},
   "outputs": [],
   "source": [
    "dict_grades['inhoe'] = 'A'"
   ]
  },
  {
   "cell_type": "code",
   "execution_count": 41,
   "id": "32241802",
   "metadata": {},
   "outputs": [
    {
     "data": {
      "text/plain": [
       "{'inhoe': 'A'}"
      ]
     },
     "execution_count": 41,
     "metadata": {},
     "output_type": "execute_result"
    }
   ],
   "source": [
    "dict_grades"
   ]
  },
  {
   "cell_type": "code",
   "execution_count": 42,
   "id": "a9445a0e",
   "metadata": {},
   "outputs": [],
   "source": [
    "dict_grades['yesong'] = 'A+'"
   ]
  },
  {
   "cell_type": "code",
   "execution_count": 43,
   "id": "915a3e3f",
   "metadata": {},
   "outputs": [
    {
     "data": {
      "text/plain": [
       "{'inhoe': 'A', 'yesong': 'A+'}"
      ]
     },
     "execution_count": 43,
     "metadata": {},
     "output_type": "execute_result"
    }
   ],
   "source": [
    "dict_grades"
   ]
  },
  {
   "cell_type": "code",
   "execution_count": 44,
   "id": "1b0c9f11",
   "metadata": {},
   "outputs": [
    {
     "name": "stdout",
     "output_type": "stream",
     "text": [
      "inhoe got grade A\n",
      "yesong got grade A+\n"
     ]
    }
   ],
   "source": [
    "for student in dict_grades:\n",
    "    print(student, 'got grade', dict_grades[student])"
   ]
  },
  {
   "cell_type": "code",
   "execution_count": 45,
   "id": "df2a7805",
   "metadata": {},
   "outputs": [
    {
     "data": {
      "text/plain": [
       "0"
      ]
     },
     "execution_count": 45,
     "metadata": {},
     "output_type": "execute_result"
    }
   ],
   "source": [
    "dict_grades.get('hyung-sin', 0)"
   ]
  },
  {
   "cell_type": "code",
   "execution_count": 56,
   "id": "243a8cdd",
   "metadata": {},
   "outputs": [
    {
     "name": "stdout",
     "output_type": "stream",
     "text": [
      "{'A': {'inhoe', 'jaewook'}, 'A+': {'yesong'}, 'C': {'hyung-sin'}}\n"
     ]
    }
   ],
   "source": [
    "grades = {'inhoe':'A', 'yesong':'A+','jaewook':'A','hyung-sin':'C', }\n",
    "grades_inv = {}\n",
    "\n",
    "for key in grades.keys() :\n",
    "    if grades[key] not in grades_inv:\n",
    "        grades_inv[grades[key]] = set()\n",
    "    grades_inv[grades[key]].add(key)\n",
    "    \n",
    "print(grades_inv)"
   ]
  },
  {
   "cell_type": "code",
   "execution_count": 58,
   "id": "a1e04d54",
   "metadata": {},
   "outputs": [
    {
     "name": "stdout",
     "output_type": "stream",
     "text": [
      "{'A': ['inhoe', 'jaewook'], 'A+': ['yesong'], 'C': ['hyung-sin']}\n"
     ]
    }
   ],
   "source": [
    "grades = {'inhoe':'A', 'yesong':'A+','jaewook':'A','hyung-sin':'C', }\n",
    "grades_inv = {}\n",
    "\n",
    "for key in grades.keys() :\n",
    "    if grades[key] not in grades_inv:\n",
    "        grades_inv[grades[key]] = []\n",
    "    grades_inv[grades[key]].append(key)\n",
    "    \n",
    "print(grades_inv)"
   ]
  },
  {
   "cell_type": "code",
   "execution_count": 60,
   "id": "8a997026",
   "metadata": {},
   "outputs": [
    {
     "name": "stdout",
     "output_type": "stream",
     "text": [
      "{'A': ['inhoe', 'jaewook'], 'A+': ['yesong'], 'C': ['hyung-sin']}\n"
     ]
    }
   ],
   "source": [
    "grades = {'inhoe':'A', 'yesong':'A+','jaewook':'A','hyung-sin':'C', }\n",
    "grades_inv = {}\n",
    "\n",
    "for student, grade in grades.items() :\n",
    "    if grade in grades_inv:\n",
    "        grades_inv[grade].append(student)\n",
    "    else:\n",
    "        grades_inv[grade] = [student]\n",
    "    \n",
    "print(grades_inv)"
   ]
  },
  {
   "cell_type": "code",
   "execution_count": null,
   "id": "d831ef2d",
   "metadata": {},
   "outputs": [],
   "source": []
  }
 ],
 "metadata": {
  "kernelspec": {
   "display_name": "Python 3",
   "language": "python",
   "name": "python3"
  },
  "language_info": {
   "codemirror_mode": {
    "name": "ipython",
    "version": 3
   },
   "file_extension": ".py",
   "mimetype": "text/x-python",
   "name": "python",
   "nbconvert_exporter": "python",
   "pygments_lexer": "ipython3",
   "version": "3.8.8"
  }
 },
 "nbformat": 4,
 "nbformat_minor": 5
}

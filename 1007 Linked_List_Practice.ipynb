{
 "cells": [
  {
   "cell_type": "code",
   "execution_count": 1,
   "id": "83082e1d",
   "metadata": {},
   "outputs": [],
   "source": [
    "class LinkedNode():\n",
    "    def __init__(self,x):\n",
    "        self.val=x\n",
    "        self.next=None"
   ]
  },
  {
   "cell_type": "code",
   "execution_count": 3,
   "id": "f0f75f25",
   "metadata": {},
   "outputs": [],
   "source": [
    "class myStack():\n",
    "    def __init__(self):\n",
    "        self.sentinel = LinkedNode(0)\n",
    "        self.size = 0\n",
    "        \n",
    "    def push(self, x: int) -> None:\n",
    "        newNode = LinkedNode(x)\n",
    "        newNode.next = self.sentinel.next\n",
    "        self.sentinel.next = newNode\n",
    "        self.size += 1\n",
    "        \n",
    "    def pop(self) -> None:\n",
    "        if self.isEmpty() == False:\n",
    "            delete = self.sentinel.next\n",
    "            self.sentinel.next = self.sentinel.next.next\n",
    "            delete.next = None\n",
    "            self.size -= 1\n",
    "        \n",
    "    def top(self) -> int:\n",
    "        if self.isEmpty() == False:\n",
    "            return self.sentinel.next.val\n",
    "        else:\n",
    "            return None\n",
    "        \n",
    "    def getSize(self) -> int:\n",
    "        return self.size\n",
    "        \n",
    "    def isEmpty(self) -> bool:\n",
    "        return self.size == 0"
   ]
  },
  {
   "cell_type": "code",
   "execution_count": 18,
   "id": "68d7dadc",
   "metadata": {},
   "outputs": [],
   "source": [
    "a = myStack()"
   ]
  },
  {
   "cell_type": "code",
   "execution_count": 19,
   "id": "99c93618",
   "metadata": {},
   "outputs": [
    {
     "data": {
      "text/plain": [
       "0"
      ]
     },
     "execution_count": 19,
     "metadata": {},
     "output_type": "execute_result"
    }
   ],
   "source": [
    "a.getSize()"
   ]
  },
  {
   "cell_type": "code",
   "execution_count": 20,
   "id": "1e302a02",
   "metadata": {},
   "outputs": [
    {
     "data": {
      "text/plain": [
       "True"
      ]
     },
     "execution_count": 20,
     "metadata": {},
     "output_type": "execute_result"
    }
   ],
   "source": [
    "a.isEmpty()"
   ]
  },
  {
   "cell_type": "code",
   "execution_count": 21,
   "id": "45cbe570",
   "metadata": {},
   "outputs": [],
   "source": [
    "a.push(5)"
   ]
  },
  {
   "cell_type": "code",
   "execution_count": 22,
   "id": "ec9ba16e",
   "metadata": {},
   "outputs": [
    {
     "data": {
      "text/plain": [
       "5"
      ]
     },
     "execution_count": 22,
     "metadata": {},
     "output_type": "execute_result"
    }
   ],
   "source": [
    "a.top()"
   ]
  },
  {
   "cell_type": "code",
   "execution_count": 23,
   "id": "f6dfe378",
   "metadata": {},
   "outputs": [
    {
     "data": {
      "text/plain": [
       "1"
      ]
     },
     "execution_count": 23,
     "metadata": {},
     "output_type": "execute_result"
    }
   ],
   "source": [
    "a.getSize()"
   ]
  },
  {
   "cell_type": "code",
   "execution_count": 24,
   "id": "5157cf00",
   "metadata": {},
   "outputs": [
    {
     "data": {
      "text/plain": [
       "False"
      ]
     },
     "execution_count": 24,
     "metadata": {},
     "output_type": "execute_result"
    }
   ],
   "source": [
    "a.isEmpty()"
   ]
  },
  {
   "cell_type": "code",
   "execution_count": 25,
   "id": "e8771064",
   "metadata": {},
   "outputs": [],
   "source": [
    "a.pop()"
   ]
  },
  {
   "cell_type": "code",
   "execution_count": 26,
   "id": "143280ae",
   "metadata": {},
   "outputs": [
    {
     "data": {
      "text/plain": [
       "True"
      ]
     },
     "execution_count": 26,
     "metadata": {},
     "output_type": "execute_result"
    }
   ],
   "source": [
    "a.isEmpty()"
   ]
  },
  {
   "cell_type": "code",
   "execution_count": 27,
   "id": "21199441",
   "metadata": {},
   "outputs": [],
   "source": [
    "a.push(2)"
   ]
  },
  {
   "cell_type": "code",
   "execution_count": 28,
   "id": "a39f4424",
   "metadata": {},
   "outputs": [],
   "source": [
    "a.push(4)"
   ]
  },
  {
   "cell_type": "code",
   "execution_count": 39,
   "id": "fa5ee96b",
   "metadata": {},
   "outputs": [],
   "source": [
    "a.push(6)\n",
    "# sentinel -> 6 -> 4 -> 2"
   ]
  },
  {
   "cell_type": "code",
   "execution_count": 30,
   "id": "49063f54",
   "metadata": {},
   "outputs": [
    {
     "data": {
      "text/plain": [
       "3"
      ]
     },
     "execution_count": 30,
     "metadata": {},
     "output_type": "execute_result"
    }
   ],
   "source": [
    "a.getSize()"
   ]
  },
  {
   "cell_type": "code",
   "execution_count": 31,
   "id": "df2a4611",
   "metadata": {},
   "outputs": [
    {
     "data": {
      "text/plain": [
       "False"
      ]
     },
     "execution_count": 31,
     "metadata": {},
     "output_type": "execute_result"
    }
   ],
   "source": [
    "a.isEmpty()"
   ]
  },
  {
   "cell_type": "code",
   "execution_count": 32,
   "id": "5e05575a",
   "metadata": {},
   "outputs": [],
   "source": [
    "a.pop()"
   ]
  },
  {
   "cell_type": "code",
   "execution_count": 36,
   "id": "4795df6b",
   "metadata": {},
   "outputs": [
    {
     "data": {
      "text/plain": [
       "4"
      ]
     },
     "execution_count": 36,
     "metadata": {},
     "output_type": "execute_result"
    }
   ],
   "source": [
    "a.top()"
   ]
  },
  {
   "cell_type": "code",
   "execution_count": 37,
   "id": "7d40e882",
   "metadata": {},
   "outputs": [],
   "source": [
    "a.pop()"
   ]
  },
  {
   "cell_type": "code",
   "execution_count": 38,
   "id": "f0a1a0fd",
   "metadata": {},
   "outputs": [
    {
     "data": {
      "text/plain": [
       "2"
      ]
     },
     "execution_count": 38,
     "metadata": {},
     "output_type": "execute_result"
    }
   ],
   "source": [
    "a.top()"
   ]
  },
  {
   "cell_type": "code",
   "execution_count": null,
   "id": "2034ff68",
   "metadata": {},
   "outputs": [],
   "source": []
  }
 ],
 "metadata": {
  "kernelspec": {
   "display_name": "Python 3",
   "language": "python",
   "name": "python3"
  },
  "language_info": {
   "codemirror_mode": {
    "name": "ipython",
    "version": 3
   },
   "file_extension": ".py",
   "mimetype": "text/x-python",
   "name": "python",
   "nbconvert_exporter": "python",
   "pygments_lexer": "ipython3",
   "version": "3.8.8"
  }
 },
 "nbformat": 4,
 "nbformat_minor": 5
}
